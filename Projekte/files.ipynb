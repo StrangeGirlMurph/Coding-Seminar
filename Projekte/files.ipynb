{
 "cells": [
  {
   "cell_type": "markdown",
   "metadata": {},
   "source": [
    "# Dateisystem Projekte"
   ]
  },
  {
   "cell_type": "markdown",
   "metadata": {},
   "source": [
    "## Dateien und Ordner generieren\n",
    "\n",
    "Schwierigkeitsgrad: einfach/mittel\n",
    "\n",
    "Ganz viele Dateien und Ordner in dem eigenen Dateisystem anzulegen ist super nervig und kann sehr leicht mit Python automatisiert werden. Experimentiere herum und erzeuge Order mit Subordnern und Dateien, dessen Namen zum Beispiel vortlaufend nummeriert sind. Schreib ggf. auch in jede Dateien eine kleine Notiz.\n",
    "\n",
    "Zusatz: Was passiert, wenn du eine Datei erzeugen möchtest, die bereits existiert? Wie kannst du vorher überprüfen, falls das der Fall sein könnte?"
   ]
  },
  {
   "cell_type": "code",
   "execution_count": null,
   "metadata": {},
   "outputs": [],
   "source": []
  },
  {
   "cell_type": "markdown",
   "metadata": {},
   "source": [
    "## Dateien durchsuchen und manipulieren\n",
    "\n",
    "\n",
    "Um regex besser zu verstehen und zum ausprobieren: <https://regexr.com/>"
   ]
  },
  {
   "cell_type": "code",
   "execution_count": null,
   "metadata": {},
   "outputs": [],
   "source": []
  }
 ],
 "metadata": {
  "language_info": {
   "name": "python"
  },
  "orig_nbformat": 4
 },
 "nbformat": 4,
 "nbformat_minor": 2
}
