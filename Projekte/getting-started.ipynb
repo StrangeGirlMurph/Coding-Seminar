{
 "cells": [
  {
   "cell_type": "markdown",
   "metadata": {},
   "source": [
    "# Kleine, leichte Einführungsprojekte"
   ]
  },
  {
   "cell_type": "markdown",
   "metadata": {},
   "source": [
    "## Taschenrechner \n",
    "\n",
    "Schwierigkeitsgrad: leicht\n",
    "\n",
    "1. Schreibe ein kurzes Programm, welches nach 2 Zahlen mit der `input` Funktion fragt und dann eine Operation deiner Wahl auf diesen ausführt (z.B. die beiden Zahlen addiert) und das Ergebnis ausgibt.\n",
    "2. Ergänze den Code so, dass automatisch nach neuen Zahlen gefragt wird und das Programm nicht immer neu gestartet werden muss. Bei einer bestimmten Eingabe soll das Programm dann gestopt werden.\n",
    "3. Was passiert, wenn etwas anderes als eine Zahl eingegeben wird? Gehe mit diesem Fall um, so dass dein Programm dennoch funktioniert."
   ]
  },
  {
   "cell_type": "code",
   "execution_count": null,
   "metadata": {},
   "outputs": [],
   "source": []
  },
  {
   "cell_type": "markdown",
   "metadata": {},
   "source": [
    "## Fibonacci Zahlen\n",
    "\n",
    "Schwierigkeitsgrad: leicht\n",
    "\n",
    "Die [Fibonacci-Folge](https://de.wikipedia.org/wiki/Fibonacci-Folge) ist die Zahlenfolge 1,1,2,3,5,8,13,... Sie fängt mit zwei Einsen an und jede weitere Zahl ist die Summe der zwei vorherigen. Schreibe ein Programm, welches die Liste mit den ersten n Fibonacci Zahlen generiert."
   ]
  },
  {
   "cell_type": "code",
   "execution_count": 4,
   "metadata": {},
   "outputs": [],
   "source": [
    "n = 10 # Anzahl der Fibonacci-Zahlen (kann beliebig gewählt werden)\n",
    "fibonacci = [1,1]"
   ]
  }
 ],
 "metadata": {
  "kernelspec": {
   "display_name": "Python 3",
   "language": "python",
   "name": "python3"
  },
  "language_info": {
   "codemirror_mode": {
    "name": "ipython",
    "version": 3
   },
   "file_extension": ".py",
   "mimetype": "text/x-python",
   "name": "python",
   "nbconvert_exporter": "python",
   "pygments_lexer": "ipython3",
   "version": "3.11.3"
  },
  "orig_nbformat": 4
 },
 "nbformat": 4,
 "nbformat_minor": 2
}
