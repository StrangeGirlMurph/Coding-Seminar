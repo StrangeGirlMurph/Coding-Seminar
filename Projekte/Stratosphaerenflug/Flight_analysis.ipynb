{
 "cells": [
  {
   "cell_type": "markdown",
   "id": "9752d868-ece6-4be0-9a4d-16f600020edb",
   "metadata": {},
   "source": [
    "# Stratosphärenflug\n",
    "Meine alte Schule hat eine Sonde in die Stratosspähre starten lassen. An Bord befanden sich Kameras und Sensoren, um z.B. die Temperatur zu messen.\n",
    "\n",
    "Schwierigkeit: Mittel"
   ]
  },
  {
   "cell_type": "markdown",
   "id": "cb49c234-161d-4843-af73-adebcab7cdb6",
   "metadata": {},
   "source": [
    "## Import und Data Wrangling\n",
    "Importiere die benötigten packages und Daten.\n",
    "Verschaffe dir einen Überblick über die Daten und bereite sie auf"
   ]
  },
  {
   "cell_type": "markdown",
   "id": "9ff86f54-a975-4c10-bef0-1a8802879266",
   "metadata": {},
   "source": [
    "## Plotten\n",
    "Benutze ein plot Modul deiner Wahl und stelle ein paar relevante Größen dar. \n",
    "\n",
    "z.B. die Flughöhe über die Zeit oder den Temperaturverlauf, Luftdruck, Luftfeuchte mit der Höhe.\n",
    "\n",
    "*Achsenbeschriftungen nicht vergessen!*"
   ]
  },
  {
   "cell_type": "markdown",
   "id": "3db0f307-9280-46a9-9d23-250ae4001873",
   "metadata": {},
   "source": [
    "# Export\n",
    "- Exportiere die aufbereiteten Daten in einem nützlichen Format.\n",
    "- Speichere die Plots als jpg oder pdf."
   ]
  },
  {
   "cell_type": "markdown",
   "id": "ae0a8a23-f5f8-4e17-adcc-12c95ed8a537",
   "metadata": {
    "tags": []
   },
   "source": [
    "## Darstellung der Flugroute\n",
    "Sind dir die Koordinaten im Datensatz aufgefallen? \n",
    "Stelle damit die Flugroute auf einer Karte dar.\n",
    "Folgende Bibliothek kann dafür nützlich sein"
   ]
  },
  {
   "cell_type": "code",
   "execution_count": 14,
   "id": "96f1fd66-89c5-4d45-9aa5-d78396a8429a",
   "metadata": {},
   "outputs": [],
   "source": [
    "import plotly.express as px"
   ]
  },
  {
   "cell_type": "code",
   "execution_count": null,
   "id": "822856a5-4460-4fe4-a932-c57a97313948",
   "metadata": {},
   "outputs": [],
   "source": []
  }
 ],
 "metadata": {
  "kernelspec": {
   "display_name": "Python 3 (ipykernel)",
   "language": "python",
   "name": "python3"
  },
  "language_info": {
   "codemirror_mode": {
    "name": "ipython",
    "version": 3
   },
   "file_extension": ".py",
   "mimetype": "text/x-python",
   "name": "python",
   "nbconvert_exporter": "python",
   "pygments_lexer": "ipython3",
   "version": "3.9.13"
  }
 },
 "nbformat": 4,
 "nbformat_minor": 5
}
