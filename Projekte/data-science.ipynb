{
 "cells": [
  {
   "cell_type": "markdown",
   "metadata": {},
   "source": [
    "# Data Science/Visualisierungs Projekte"
   ]
  },
  {
   "cell_type": "markdown",
   "metadata": {},
   "source": [
    "## Countries\n",
    "\n",
    "Schwierigkeitsgrad: mittel\n",
    "\n",
    "Über <https://restcountries.com/v3.1/all> kommen wir an so einige Daten zu allen Ländern der Welt. Schreibe ein Programm, welches auf diese Daten zugreift und Eigenschaften der Länder graphisch mit der library `matplotlib` darstellt. Erstelle zum Beispiel ein Tortendiagramm mit den Bevölkerungszahlen der Länder. Aus diesem wird dann wohl schnell klar, dass 2 Länder der Welt über 25% der Menschen auf dem Planeten beherbergen. Überlege dir weitere spannende Visualisierungen oder schreibe Code um Fragen wie \"Wieviel Prozent der Länder sind zum Beispiel teil der UN?\" oder \"In welcher Zeitzone leben am meisten Menschen?\" zu beantworten.\n",
    "\n",
    "Zusatz: Was ist eigentlich eine Rest API?"
   ]
  },
  {
   "cell_type": "code",
   "execution_count": null,
   "metadata": {},
   "outputs": [],
   "source": []
  }
 ],
 "metadata": {
  "language_info": {
   "name": "python"
  },
  "orig_nbformat": 4
 },
 "nbformat": 4,
 "nbformat_minor": 2
}
