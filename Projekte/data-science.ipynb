{
 "cells": [
  {
   "cell_type": "markdown",
   "metadata": {},
   "source": [
    "# Data Science/Visualisierungs Projekte"
   ]
  },
  {
   "cell_type": "markdown",
   "metadata": {},
   "source": [
    "## Countries\n",
    "\n",
    "Schwierigkeitsgrad: mittel\n",
    "\n",
    "Über <https://restcountries.com/v3.1/all> kommen wir an so einige Daten zu allen Ländern der Welt. Schreibe ein Programm, welches auf diese Daten zugreift und Eigenschaften der Länder graphisch mit der library `matplotlib` darstellt. Erstelle zum Beispiel ein Tortendiagramm mit den Bevölkerungszahlen der Länder. Aus diesem wird dann wohl schnell klar, dass 2 Länder der Welt über 25% der Menschen auf dem Planeten beherbergen. Überlege dir weitere spannende Visualisierungen oder schreibe Code um Fragen wie \"Wieviel Prozent der Länder sind zum Beispiel teil der UN?\" oder \"In welcher Zeitzone leben am meisten Menschen?\" zu beantworten.\n",
    "\n",
    "Zusatz: Was ist eigentlich eine Rest API?"
   ]
  },
  {
   "cell_type": "code",
   "execution_count": null,
   "metadata": {},
   "outputs": [],
   "source": []
  },
  {
   "cell_type": "markdown",
   "metadata": {},
   "source": [
    "## Exploratory Data Analysis\n",
    "\n",
    "<https://colab.research.google.com/github/Tanu-N-Prabhu/Python/blob/master/Exploratory_data_Analysis.ipynb>"
   ]
  },
  {
   "cell_type": "markdown",
   "metadata": {},
   "source": []
  },
  {
   "cell_type": "markdown",
   "metadata": {},
   "source": [
    "## Graphen Graphen Graphen!\n",
    "\n",
    "<https://colab.research.google.com/notebooks/charts.ipynb>"
   ]
  },
  {
   "cell_type": "markdown",
   "metadata": {},
   "source": []
  },
  {
   "cell_type": "markdown",
   "metadata": {},
   "source": [
    "## Google Sheets meets Python\n",
    "\n",
    "<https://colab.research.google.com/notebooks/io.ipynb#scrollTo=sOm9PFrT8mGG>"
   ]
  },
  {
   "cell_type": "markdown",
   "metadata": {},
   "source": []
  }
 ],
 "metadata": {
  "language_info": {
   "name": "python"
  },
  "orig_nbformat": 4
 },
 "nbformat": 4,
 "nbformat_minor": 2
}
