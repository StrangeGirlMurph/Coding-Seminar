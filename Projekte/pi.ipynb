{
 "cells": [
  {
   "cell_type": "markdown",
   "metadata": {},
   "source": [
    "# [Pi](https://en.wikipedia.org/wiki/Pi) Projekte"
   ]
  },
  {
   "cell_type": "markdown",
   "metadata": {},
   "source": [
    "## Pi berechnen mit der Leibniz-Formel\n",
    "\n",
    "Schwierigkeitsgrad: leicht/mittel\n",
    "\n",
    "Pi kann unter anderem mit der Formel von Gottfried Leibniz berechnet (siehe <https://en.wikipedia.org/wiki/Leibniz_formula_for_%CF%80>). Implementiere diese Reihe (unendliche Summe) und berechne so eine Annäherung an Pi indem du die Rechnung mit den ersten n (z.B. 10000) Gliedern der Summe ausführst. Gib auch den [relativen Fehler](https://de.wikipedia.org/wiki/Fehlerschranke#Relativer_Fehler) der Näherung in Prozent an.\n",
    "\n",
    "Zusatz: Hast du auch lokal eine Python Umgebung, dann schreibe ein script, dass diese Berechnung in einer unendlichschleife läuft und mit jeder Iteration der aktuelle Wert der Berechnung ausgegeben wird. Modifiziere die `print` Funktion so, dass die zuvor ausgegebene Zeile überschrieben wird, statt in eine neue Zeile zu schreiben."
   ]
  },
  {
   "cell_type": "code",
   "execution_count": null,
   "metadata": {},
   "outputs": [],
   "source": []
  },
  {
   "cell_type": "markdown",
   "metadata": {},
   "source": [
    "## Pi Coprime Approximation \n",
    "\n",
    "Schwierigkeitsgrad: mittel\n",
    "\n",
    "Eine interessante Eigenschaft von Pi ist, dass die Zahl an erstaunlich vielen Orten in der Mathematik auftaucht. Hier wollen wir ausnutzen, dass die Wahrscheinlichkeit, dass 2 zufällige [natürliche Zahlen](https://de.wikipedia.org/wiki/Nat%C3%BCrliche_Zahl) [teilerfremd](https://de.wikipedia.org/wiki/Teilerfremdheit) (englisch: coprime) sind, $\\frac{6}{\\pi^2}$ ist (ein tolles Video dazu für Zuhause: <https://www.youtube.com/watch?v=RZBhSi_PwHU>). Das können wir ausnutzen, um Pi abzuschätzen. Implementiere also einen Algorithmus, der genau dies tut. \n",
    "\n",
    "Dazu: Wie erhalte ich zufällige natürliche Zahlen in Python? Wie berechne ich, ob zwei Zahlen teilerfremd sind? (der Wikipedia Artikel hilft)\n",
    "\n",
    "Tipp: Die Wahrscheinlichkeit, dass zwei Zahlen teilerfremd sind, können wir bestimmen, indem wir für ganz viele zufällige Paar bestimmen, ob diese teilerfremd sind und dann die Anzahl der Teilerfremden durch die Anzahl aller untersuchten Paare teilen. "
   ]
  },
  {
   "cell_type": "code",
   "execution_count": null,
   "metadata": {},
   "outputs": [],
   "source": []
  },
  {
   "cell_type": "markdown",
   "metadata": {},
   "source": [
    "## Pi Colliding Blocks\n",
    "\n",
    "Schwierigkeitsgrad: schwer (etwas Physikkenntnisse)\n",
    "\n",
    "Ein weiterer faszinierender Ort, an dem Pi ebenfalls auftaucht beschreibt 3Blue1Brown in diesem Artikel/Video: <https://www.3blue1brown.com/lessons/clacks>. Pi kann also auch mit Physik bestimmt werden! Die Aufgabe ist es, diesen Algorithmus/Aufbau zu implementieren. \n",
    "\n",
    "Die Gleichungen für die Geschwindigkeiten beider Massen ($m_1,m_2$) nach dem elastischen Stoß lauten:\n",
    "$$v_1' = \\frac{(m_1-m_2)v_1 + 2m_2v_2}{m_1+m_2}, \\quad v_2' = \\frac{(m_2-m_1)v_2 + 2m_1v_1}{m_1+m_2}$$\n",
    "Sonst gilt natürlich auch noch: $s = v \\cdot t$ (Strecke = Geschwindigkeit * Zeit).\n",
    "\n",
    "Grundsätzlich gibt es zwei Ansätze für das Problem. Wir können eine kleine Physiksimulation schreiben, welche die Bewegung der Blöcke Stück für Stück simuliert und bei jedem Zeitschritt überprüft, ob die beiden Blöcke kollidieren oder wir berechnen direkt, wo die nächste Kollision stattfinden wird und gehen von dort weiter. Also einmal loopen wir über ganz viele kleine Zeitintervalle $\\Delta t$ und beim Zweiten gehen wir direkt von Kollision zu Kollision. Die zweite Methode ist offensichtlich deutlich sinnvoller und effizienter doch sind beide herangehensweisen spannend.\n",
    "\n",
    "Erklärung des Phänomens für Zuhause: <https://www.3blue1brown.com/lessons/clacks-solution>\n",
    "\n",
    "Tipp: Ich habe die zweiten Ansatz selber in Rust, einer anderen Programmiersprache, gelöst. Auch wenn Rust wirklich sehr anders als Python ist, solltet ihr wahrscheinlich dennoch aus meinem Code die Grundidee des Algorithmus entnehmen können: <https://github.com/StrangeGirlMurph/Coding-Projects/blob/master/ILikePi/collisions-rust/src/main.rs>"
   ]
  },
  {
   "cell_type": "code",
   "execution_count": null,
   "metadata": {},
   "outputs": [],
   "source": [
    "\n"
   ]
  }
 ],
 "metadata": {
  "kernelspec": {
   "display_name": "Python 3",
   "language": "python",
   "name": "python3"
  },
  "language_info": {
   "codemirror_mode": {
    "name": "ipython",
    "version": 3
   },
   "file_extension": ".py",
   "mimetype": "text/x-python",
   "name": "python",
   "nbconvert_exporter": "python",
   "pygments_lexer": "ipython3",
   "version": "3.11.3"
  },
  "orig_nbformat": 4
 },
 "nbformat": 4,
 "nbformat_minor": 2
}
