{
 "cells": [
  {
   "cell_type": "markdown",
   "metadata": {},
   "source": [
    "# [Pi](https://en.wikipedia.org/wiki/Pi) Projekte"
   ]
  },
  {
   "cell_type": "markdown",
   "metadata": {},
   "source": [
    "## Pi berechnen mit der Leibniz-Formel\n",
    "\n",
    "Pi kann unter anderem mit der Formel von Gottfried Leibniz berechnet (siehe <https://en.wikipedia.org/wiki/Leibniz_formula_for_%CF%80>). Implementiere diese Reihe (unendliche Summe) und berechne so eine Annäherung an Pi indem du die Rechnung mit den ersten n (z.B. 10000) Gliedern der Summe ausführst. Gib auch den [relativen Fehler](https://de.wikipedia.org/wiki/Fehlerschranke#Relativer_Fehler) der Näherung in Prozent an.\n",
    "\n",
    "Zusatz: Hast du auch lokal eine Python Umgebung, dann schreibe ein script, dass diese Berechnung in einer unendlichschleife läuft und mit jeder Iteration der aktuelle Wert der Berechnung ausgegeben wird. Modifiziere die `print` Funktion so, dass die zuvor ausgegebene Zeile überschrieben wird, statt in eine neue Zeile zu schreiben.\n",
    "\n",
    "Schwierigkeitsgrad: relativ einfach"
   ]
  },
  {
   "cell_type": "code",
   "execution_count": null,
   "metadata": {},
   "outputs": [],
   "source": []
  },
  {
   "cell_type": "markdown",
   "metadata": {},
   "source": [
    "## Pi Coprime Approximation\n",
    "\n",
    "Eine interessante Eigenschaft von Pi ist, dass die Zahl an erstaunlich vielen Orten in der Mathematik auftaucht. Hier wollen wir ausnutzen, dass die Wahrscheinlichkeit, dass 2 zufällige [natürliche Zahlen](https://de.wikipedia.org/wiki/Nat%C3%BCrliche_Zahl) [teilerfremd](https://de.wikipedia.org/wiki/Teilerfremdheit) (englisch: coprime) sind, $\\frac{6}{\\pi^2}$ ist (ein tolles Video dazu für Zuhause: <https://www.youtube.com/watch?v=RZBhSi_PwHU>). Das können wir ausnutzen, um Pi abzuschätzen. Implementiere also einen Algorithmus, der genau dies tut. \n",
    "\n",
    "Dazu: Wie erhalte ich zufällige natürliche Zahlen in Python? Wie berechne ich, ob zwei Zahlen teilerfremd sind? (der Wikipedia Artikel hilft)\n",
    "\n",
    "Tipp: Die Wahrscheinlichkeit, dass zwei Zahlen teilerfremd sind, können wir bestimmen, indem wir für ganz viele zufällige Paar bestimmen, ob diese teilerfremd sind und dann die Anzahl der Teilerfremden durch die Anzahl aller untersuchten Paare teilen. "
   ]
  },
  {
   "cell_type": "code",
   "execution_count": null,
   "metadata": {},
   "outputs": [],
   "source": []
  },
  {
   "cell_type": "markdown",
   "metadata": {},
   "source": [
    "## Pi Colliding Blocks\n",
    "\n",
    "\n",
    "https://www.3blue1brown.com/lessons/clacks\n",
    "\n",
    "\n",
    "Erklärung des Phänomens für Zuhause: <https://www.3blue1brown.com/lessons/clacks-solution>\n",
    "\n",
    "Tipp: Ich habe die Aufgabe selber in Rust, einer anderen Programmiersprache, gelöst. Auch wenn Rust wirklich sehr anders als Python ist, solltet ihr wahrscheinlich dennoch aus meinem Code die Grundidee des Algorithmus entnehmen können: <https://github.com/StrangeGirlMurph/Coding-Projects/blob/master/ILikePi/collisions-rust/src/main.rs>"
   ]
  },
  {
   "cell_type": "code",
   "execution_count": null,
   "metadata": {},
   "outputs": [],
   "source": [
    "\n"
   ]
  }
 ],
 "metadata": {
  "kernelspec": {
   "display_name": "Python 3",
   "language": "python",
   "name": "python3"
  },
  "language_info": {
   "codemirror_mode": {
    "name": "ipython",
    "version": 3
   },
   "file_extension": ".py",
   "mimetype": "text/x-python",
   "name": "python",
   "nbconvert_exporter": "python",
   "pygments_lexer": "ipython3",
   "version": "3.11.3"
  },
  "orig_nbformat": 4
 },
 "nbformat": 4,
 "nbformat_minor": 2
}
