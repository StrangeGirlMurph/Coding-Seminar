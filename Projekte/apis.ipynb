{
 "cells": [
  {
   "cell_type": "markdown",
   "metadata": {},
   "source": [
    "# API Projekte"
   ]
  },
  {
   "cell_type": "markdown",
   "metadata": {},
   "source": [
    "## Tenor API\n",
    "\n",
    "[Tenor](https://tenor.com/) ist ein Dienst, der die Welt mit wundervollen GIFs versorgt. Tenor hat eine sehr tolle API. Deine Aufgabe ist es ein Programm zu schreiben, welches auf input des users die top 10 Suchergebnisse von Tenor in Form von Links zu den GIFs (`.gif`) ausgibt.\n",
    "\n",
    "Ihr könnt den folgenden API-Key benutzen: `LIVDSRZULELA`\n",
    "\n",
    "Zusatz: Lade die GIFs herunter und speichere sie in einem Ordner."
   ]
  },
  {
   "cell_type": "code",
   "execution_count": null,
   "metadata": {},
   "outputs": [],
   "source": []
  },
  {
   "cell_type": "markdown",
   "metadata": {},
   "source": [
    "## Pubchem API"
   ]
  },
  {
   "cell_type": "code",
   "execution_count": null,
   "metadata": {},
   "outputs": [],
   "source": []
  },
  {
   "cell_type": "markdown",
   "metadata": {},
   "source": [
    "## Rest Countries API\n",
    "\n",
    "<https://restcountries.com/v3.1/all>"
   ]
  },
  {
   "cell_type": "markdown",
   "metadata": {},
   "source": [
    "## Wikipedia API"
   ]
  },
  {
   "cell_type": "code",
   "execution_count": null,
   "metadata": {},
   "outputs": [],
   "source": []
  }
 ],
 "metadata": {
  "kernelspec": {
   "display_name": "Python 3",
   "language": "python",
   "name": "python3"
  },
  "language_info": {
   "codemirror_mode": {
    "name": "ipython",
    "version": 3
   },
   "file_extension": ".py",
   "mimetype": "text/x-python",
   "name": "python",
   "nbconvert_exporter": "python",
   "pygments_lexer": "ipython3",
   "version": "3.11.3"
  },
  "orig_nbformat": 4
 },
 "nbformat": 4,
 "nbformat_minor": 2
}
