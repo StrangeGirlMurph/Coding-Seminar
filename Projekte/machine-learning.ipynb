{
 "cells": [
  {
   "cell_type": "markdown",
   "metadata": {},
   "source": [
    "# Machine Learning Projekte"
   ]
  },
  {
   "cell_type": "markdown",
   "metadata": {},
   "source": [
    "## Handwritten Digit Recognition\n",
    "\n",
    "Eine gute Einführung in das maschinelle Lernen bietet das MNIST Dataset, das aus 60000 handgeschriebenen Zahlen besteht. Die Aufgabe ist es einem Computer \"beizubringen\" daraus selbstständig handgeschriebene Zahlen richtig identifizieren zu können.\n",
    "\n",
    "Es gibt einige Notebooks, die durch den Prozess führen. Die Aufgabe für euch ist es euch an mindestens einem der Notebooks (ich empfehle das erste) entlang zu hangeln und ein gutes Verständnis des Codes zu erlangen.\n",
    "\n",
    "<https://colab.research.google.com/github/AviatorMoser/keras-mnist-tutorial/blob/master/MNIST%20in%20Keras.ipynb>\n",
    "<https://colab.research.google.com/github/google/eng-edu/blob/main/ml/cc/exercises/multi-class_classification_with_MNIST.ipynb>\n",
    "<https://colab.research.google.com/github/Rujul-Patel/Data-Science-and-ML/blob/master/Deep-Learning/MNIST_Handwritten_Digits.ipynb>"
   ]
  },
  {
   "cell_type": "markdown",
   "metadata": {},
   "source": [
    "## Titanic Survival Prediction\n",
    "\n",
    "Ziel ist es ein Dataset mit Titanic Passagier Daten zu nutzen um vorherzusagen, ob eine Person überlebt hätte oder nicht.\n",
    "\n",
    "Das Notebook gibt eine Einführung in Kaggle und leitet einen interaktiv durch das Problem.\n",
    "\n",
    "<https://www.kaggle.com/code/alexisbcook/titanic-tutorial>"
   ]
  }
 ],
 "metadata": {
  "language_info": {
   "name": "python"
  },
  "orig_nbformat": 4
 },
 "nbformat": 4,
 "nbformat_minor": 2
}
