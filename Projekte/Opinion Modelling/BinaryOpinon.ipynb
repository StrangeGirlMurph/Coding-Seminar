{
 "cells": [
  {
   "cell_type": "markdown",
   "id": "b023fe33-5b5f-4b9f-8303-30714b0affd8",
   "metadata": {},
   "source": [
    "# Binary Opinon Models on Networks\n",
    "**Fachgebiet: Politikwissenschaften**\n",
    "Schwierigkeit: Mittel/Schwer\n",
    "\n",
    "Stellen wir uns eine Gesellschaft aus N Personen vor. Jede von Ihnen hat zu einem Thema X ein gewisse Meinung. Ablehnung simulieren wir als -1 und Zustimmung als +1. Auch beliebige Werte dazwischen sind erlaubt, ebenso wie 0 als neutrale Haltung.\n",
    "\n",
    "Das Beziehungsnetzwerk der Personen wird mit einem Graphen abgebildet.\n",
    "Die Idee ist, dass benachbarte Knoten (also bekannte oder befreundete Personen) sich in ihrer Meinung beinflussen.\n",
    "Im ersten Schritt werden alle Akteure als gleichwertig empfänglich für die Meinungen anderer und alle Edges ( also die Beziehungen ) mit den gleichen Gewichten versehen.\n",
    "- Wie kannst du einen Eindruck der Gesamtmeinung bekommen oder sagen wie stark positive und negative Meinungen vertreten sind?\n",
    "- Was beobachtest du, wenn alle Personen sich an den Meinungen ihrer Nachbarn orientieren?\n",
    "- Untersuche den Einfluss der Anfangsbedingungen.\n",
    "- Was passiert nach einer langen Zeit, stellt sich ein Konsens ein oder ist die Gesellschaft gespalten? \n",
    "- Was passiert wenn du den Zufall mit berücksichtigst, z.B. für die Gewichtungen?\n",
    "- Welchen Einfluss können einzelne, start vernetzte Akteure (Knoten) haben? Z.B. Medien oder Lobbyisten\n",
    "\n",
    "TIPPS:\n",
    "- suche nach Libraries die Graphen modellieren können. So sparst du dir viel Aufwand und kannst dich mit den spannenden Fragen beschäftigen."
   ]
  },
  {
   "cell_type": "markdown",
   "id": "9bfc57a3-b3ae-44e7-98ab-7f57054b81ec",
   "metadata": {},
   "source": [
    "## ZUSATZ: SAT-Problem"
   ]
  },
  {
   "cell_type": "markdown",
   "id": "4f1effcb-15eb-4a7e-9715-e269f8d271c7",
   "metadata": {},
   "source": [
    "SAT-Probleme, abgeleitet von \"satisfiable\" stellen die Frage, ob eine Reihe logischer Aussagen, die eine Anzahl an Ereignissen {X,Y,Z} verknüpfen, erfüllt werden kann.\n",
    "\n",
    "BSP: \n",
    "- Ich möchte entweder Kuchen oder Kekse essen\n",
    "- Du möchtest Kuchen und Eis essen"
   ]
  },
  {
   "cell_type": "code",
   "execution_count": null,
   "id": "6bbd1de3-a857-446c-9481-5d17b91e372c",
   "metadata": {},
   "outputs": [],
   "source": []
  }
 ],
 "metadata": {
  "kernelspec": {
   "display_name": "Python 3 (ipykernel)",
   "language": "python",
   "name": "python3"
  },
  "language_info": {
   "codemirror_mode": {
    "name": "ipython",
    "version": 3
   },
   "file_extension": ".py",
   "mimetype": "text/x-python",
   "name": "python",
   "nbconvert_exporter": "python",
   "pygments_lexer": "ipython3",
   "version": "3.9.13"
  }
 },
 "nbformat": 4,
 "nbformat_minor": 5
}
