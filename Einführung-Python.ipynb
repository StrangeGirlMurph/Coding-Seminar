{
 "cells": [
  {
   "cell_type": "markdown",
   "metadata": {
    "id": "V9s2xeSaxlKd"
   },
   "source": [
    "# Python Grundlagen - Einführung in die Welt der Programmierung\n",
    "Arthur Wohlfahrt & Murphy Sünnenwold"
   ]
  },
  {
   "cell_type": "markdown",
   "metadata": {
    "tags": []
   },
   "source": [
    "## Was sind Jupyter-Notebooks?"
   ]
  },
  {
   "cell_type": "markdown",
   "metadata": {},
   "source": [
    "Das hier ist ein sogenanntes Jupyter-Notebook. Notebooks eignen sich besonders als Einstieg, für wissenschaftliche Berichte und interaktive Sessions.\n",
    "Der Vorteil im Vergleich zu anderen Programmierumgebungen liegt darin, dass Programmbausteine einzeln in sogenannten Zellen ausgeführt werden können. So ist direkt ersichtlich was jede Zeile im Code bewirkt.\n",
    "Es gibt drei verschiedene Typen von Zellen in Jupyter: Markdown (also formatierter Text), Code und Raw.\n",
    "Falls die Codeblöcke einen Output (z.B. eine Zahl oder eine Grafik) wird dieser direkt darunter ausgegeben.\n",
    "\n",
    "Hier ein paar nützliche Shortcuts:\n",
    "-  Mit \"Shift + Enter\" führt die den Inhalt der Zelle aus\n",
    "-  \"a\"/\"b\" fügt eine Zelle above oder below der aktuellen ein.\n",
    "-  \"dd\" löscht die aktuelle Zelle\n",
    "-  Ihr könnt Zellen verschieben, trennen und zusammenfügen\n",
    "-  Mit dem \"%\" Symbol könnt ihr sog. [Magic-Befehle](https://notebook.community/CestDiego/emacs-ipython-notebook/tests/notebook/nbformat4/Cell%20Magics) verwenden\n",
    "\n",
    "Zum Vertiefen findet ihr hier die [Jupyter Documentation](https://jupyterlab.readthedocs.io/en/latest/)"
   ]
  },
  {
   "cell_type": "markdown",
   "metadata": {
    "id": "CtV6qeQqxlKh",
    "tags": []
   },
   "source": [
    "## Variabeln"
   ]
  },
  {
   "cell_type": "markdown",
   "metadata": {
    "id": "BKBEvaEdxlKi"
   },
   "source": [
    "Variablen deklarieren/initialisieren, Datentypen"
   ]
  },
  {
   "cell_type": "code",
   "execution_count": null,
   "metadata": {
    "id": "UTeZXM4IxlKj"
   },
   "outputs": [],
   "source": [
    "a = 33 # int (integer)\n",
    "b = 3.1415926539 # float (floating point number)\n",
    "hello_world = \"Hello World\" # str (string)\n",
    "character = 'a' # char (character)\n",
    "wahr = True # bool (boolean)\n",
    "liste = [1, 2, 3] # list\n",
    "tupel = (1, 2, 3) # tuple\n",
    "objekt = {\"a\": 1, \"b\": 2, \"c\": 3} # dict (dictionary)"
   ]
  },
  {
   "cell_type": "markdown",
   "metadata": {
    "id": "MAJzdTeRxlKl"
   },
   "source": [
    "Ausgeben (printing)"
   ]
  },
  {
   "cell_type": "code",
   "execution_count": null,
   "metadata": {
    "colab": {
     "base_uri": "https://localhost:8080/"
    },
    "id": "k_BBeJYCxlKn",
    "outputId": "2ae06bfb-2570-445a-d689-c7bb5e0f543f"
   },
   "outputs": [],
   "source": [
    "print(hello_world)\n",
    "print(liste)"
   ]
  },
  {
   "cell_type": "code",
   "execution_count": null,
   "metadata": {
    "colab": {
     "base_uri": "https://localhost:8080/",
     "height": 35
    },
    "id": "q_A2lwoLx48q",
    "outputId": "f26a82dd-d500-4eec-be9a-137de148e774"
   },
   "outputs": [],
   "source": [
    "\"Hey Böllis!\" # das funktioniert nur hier im \"Notebook\" Das letzte Statement einer Zelle wird ausgegeben"
   ]
  },
  {
   "cell_type": "markdown",
   "metadata": {},
   "source": [
    "Listen & Dictionaries"
   ]
  },
  {
   "cell_type": "code",
   "execution_count": null,
   "metadata": {},
   "outputs": [],
   "source": [
    "print(liste)\n",
    "print(liste[0])\n",
    "print(liste[-1])\n",
    "print(liste[1:3]) \n",
    "liste[1] = 1 \n",
    "print(liste)"
   ]
  },
  {
   "cell_type": "code",
   "execution_count": null,
   "metadata": {},
   "outputs": [],
   "source": [
    "print(objekt)\n",
    "print(objekt[\"a\"])\n",
    "objekt[\"d\"] = 4\n",
    "print(objekt)"
   ]
  },
  {
   "cell_type": "markdown",
   "metadata": {
    "id": "MLqgfJLdxlKo"
   },
   "source": [
    "Mathematische Operationen auf Zahlen"
   ]
  },
  {
   "cell_type": "code",
   "execution_count": null,
   "metadata": {
    "id": "dBg_NozqxlKp",
    "outputId": "abce1f8b-af66-4dbd-c3ce-1f5505d1870d"
   },
   "outputs": [],
   "source": [
    "print(a + b)\n",
    "# + Addition\n",
    "# - Subtraktion\n",
    "# * Multiplikation\n",
    "# / Division\n",
    "# // Ganzzahlige Division (3//2 = 1)\n",
    "# ** Potenz (3**2)\n",
    "# % Modulo (Rest bei Ganzzahliger Division) (3%2 = 1)"
   ]
  },
  {
   "cell_type": "markdown",
   "metadata": {
    "id": "fgsL1b_xxlKq"
   },
   "source": [
    "Operationen auf anderen Datentypen (Auswahl)"
   ]
  },
  {
   "cell_type": "code",
   "execution_count": null,
   "metadata": {
    "colab": {
     "base_uri": "https://localhost:8080/"
    },
    "id": "0_clzMLsxlKr",
    "outputId": "3c07346c-451b-4528-e209-e14f91785180"
   },
   "outputs": [],
   "source": [
    "print(hello_world + \"!\")\n",
    "print([1,2]+[3,4])\n",
    "print(len(liste))"
   ]
  },
  {
   "cell_type": "code",
   "execution_count": null,
   "metadata": {},
   "outputs": [],
   "source": [
    "# Error! Dictionaries können nicht addiert werden. Wieso?\n",
    "print({\"a\":1,\"b\":2}+{\"b\":3,\"c\":4}) "
   ]
  },
  {
   "cell_type": "markdown",
   "metadata": {
    "jp-MarkdownHeadingCollapsed": true,
    "tags": []
   },
   "source": [
    "## Bedingungen"
   ]
  },
  {
   "cell_type": "code",
   "execution_count": null,
   "metadata": {},
   "outputs": [],
   "source": [
    "boolean = True\n",
    "\n",
    "if boolean:\n",
    "    print(\"Die Variable a ist wahr\")\n",
    "else:\n",
    "    print(\"Die Variable a ist falsch\")"
   ]
  },
  {
   "cell_type": "code",
   "execution_count": null,
   "metadata": {},
   "outputs": [],
   "source": [
    "zahl = 33\n",
    "\n",
    "if zahl == 33:\n",
    "    print(\"Zahl ist 33\")\n",
    "elif zahl == 34:\n",
    "    print(\"Zahl ist 34\")\n",
    "elif zahl == 35:\n",
    "    print(\"Zahl ist 35\")\n",
    "else:\n",
    "    print(\"Zahl ist weder 33, 34 noch 35\")"
   ]
  },
  {
   "cell_type": "markdown",
   "metadata": {
    "id": "JkGD994vxlKs",
    "tags": []
   },
   "source": [
    "## Loops (Schleifen)\n"
   ]
  },
  {
   "cell_type": "code",
   "execution_count": null,
   "metadata": {
    "id": "X2d7glCWxlKt",
    "outputId": "4895df82-b684-4382-ac77-20aa1b2e5ccf"
   },
   "outputs": [],
   "source": [
    "for item in range(1, 10):\n",
    "    print(item)"
   ]
  },
  {
   "cell_type": "code",
   "execution_count": null,
   "metadata": {
    "id": "00K21Y4oxlKu",
    "outputId": "424fad44-062e-425a-e5eb-1a444fcbb163"
   },
   "outputs": [],
   "source": [
    "print(liste)\n",
    "for i in liste:\n",
    "    print(i + 1)"
   ]
  },
  {
   "cell_type": "code",
   "execution_count": null,
   "metadata": {
    "colab": {
     "base_uri": "https://localhost:8080/"
    },
    "id": "3OjFMKdzzrvF",
    "outputId": "f1379f28-aee0-459d-80ae-073cbb40a275"
   },
   "outputs": [],
   "source": [
    "i=0\n",
    "while i<5:\n",
    "    for j in range(i):\n",
    "        print(j)\n",
    "    print(\"--\")\n",
    "    i+=1"
   ]
  },
  {
   "cell_type": "code",
   "execution_count": null,
   "metadata": {
    "id": "OmTPTe0CyvYM"
   },
   "outputs": [],
   "source": [
    "#while True:\n",
    "#    print(\"infinite loop\")"
   ]
  },
  {
   "cell_type": "markdown",
   "metadata": {
    "id": "yLr577EixlKu",
    "tags": []
   },
   "source": [
    "## Funktionen"
   ]
  },
  {
   "cell_type": "code",
   "execution_count": null,
   "metadata": {
    "colab": {
     "base_uri": "https://localhost:8080/",
     "height": 179
    },
    "id": "yvev_pTSxlKv",
    "outputId": "e519cb4b-108c-4568-a2e4-9aa10c96f950"
   },
   "outputs": [],
   "source": [
    "print(a,b)"
   ]
  },
  {
   "cell_type": "code",
   "execution_count": null,
   "metadata": {
    "colab": {
     "base_uri": "https://localhost:8080/",
     "height": 53
    },
    "id": "Za38O0F-0Xok",
    "outputId": "0774de85-0b70-4cf1-a255-a358ced42e66"
   },
   "outputs": [],
   "source": [
    "def happy_bday(name,age=22):\n",
    "    return f\"Happy Birthday {name}! You are {age:.1f} years old.\"\n",
    "\n",
    "print(happy_bday(\"Murphy\"))\n",
    "print(happy_bday(\"Murphy\",age=22.78346))"
   ]
  },
  {
   "cell_type": "code",
   "execution_count": null,
   "metadata": {},
   "outputs": [],
   "source": [
    "# was geht hier schief?\n",
    "def inc(x):\n",
    "    x += 1 # x = x + 1\n",
    "\n",
    "a = 1\n",
    "inc(a)\n",
    "print(a)"
   ]
  },
  {
   "cell_type": "markdown",
   "metadata": {},
   "source": [
    "## Scoping\n",
    "Jede Variable hat ihren Scope, also sozusagen ihr Heimatdorf. Dort kennen sie alle mit Namen und es gibt keine zweite, die den gleichen Namen trägt.\n",
    "Außerhalb des Scopes (oder des Dorfes) kann der gleiche Name jedoch einer anderen Variable gegeben werden. Das ist bei lokalen Variablen der Fall.\n",
    "\n",
    "Lokale Variablen existieren nur in ihrem lokalen Scope, also z.B. einer Funktion. Nur dort kann auf sie zugegriffen werden\n",
    "Globale Variablen gibt es hingegen nur einmal im ganzen Programm und sie können von überall gelesen und geschrieben werden.\n",
    "\n",
    "Achtung Besonderheit bei Jupyter Notebooks!"
   ]
  },
  {
   "cell_type": "code",
   "execution_count": null,
   "metadata": {},
   "outputs": [],
   "source": [
    "def funktion():\n",
    "    h = 20\n",
    "    \n",
    "funktion()\n",
    "print(h)    "
   ]
  },
  {
   "cell_type": "markdown",
   "metadata": {
    "id": "vO2XGKvU113k",
    "jp-MarkdownHeadingCollapsed": true,
    "tags": []
   },
   "source": [
    "## Objektorientierung / Klassen\n",
    "Klassen und Objekte dienen dazu die reale Welt zu erfassen und im Programm abzubilden. So z.B. ein Fahrrad. Seine Eigenschaften wie die Rahmenhoehe oder die Farbe werden als \"Attribute\" gespeichert."
   ]
  },
  {
   "cell_type": "code",
   "execution_count": null,
   "metadata": {
    "colab": {
     "base_uri": "https://localhost:8080/"
    },
    "id": "gqq7mue_2zCN",
    "outputId": "0a0f0ec5-8855-4cda-f6f3-06b518caf4d1"
   },
   "outputs": [],
   "source": [
    "class Bike:\n",
    "    # diese Funktion ist der Constructor\n",
    "    def __init__(self,size:int,color):\n",
    "        self.size=size # frame size in cm\n",
    "        self.color=color\n",
    "\n",
    "    def lackieren(self,new_color):\n",
    "        self.color=new_color\n",
    "\n",
    "    def __str__(self):\n",
    "        return f'{self.color} bike with frame size {self.size}cm.'\n",
    "\n",
    "    def __repr__(self):\n",
    "        return f'Bike({self.size}, \\\"{self.color}\\\")'\n",
    "\n",
    "mybike=Bike(57,\"silver\")  # erstelle eine Instance der Klasse Bike mit dem Constructor\n",
    "print(mybike.__repr__())\n",
    "print(mybike)\n"
   ]
  },
  {
   "cell_type": "code",
   "execution_count": null,
   "metadata": {
    "colab": {
     "base_uri": "https://localhost:8080/",
     "height": 53
    },
    "id": "xCtfFmoeRXG4",
    "outputId": "a04f1689-578a-4ab0-ee63-0a379d105162"
   },
   "outputs": [],
   "source": [
    "print(mybike.color)\n",
    "mybike.lackieren(\"yellow\")\n",
    "mybike.color"
   ]
  },
  {
   "cell_type": "code",
   "execution_count": null,
   "metadata": {
    "colab": {
     "base_uri": "https://localhost:8080/"
    },
    "id": "WuRN9TrxDUTU",
    "outputId": "ddffcd1f-00cd-4a95-fc1b-65048f49ef25"
   },
   "outputs": [],
   "source": [
    "# Wie Integer oder Strings lassen sich auch Objekte der Klasse \"Bike\" in eine Liste stecken.\n",
    "fahrradschuppen = [Bike(30,\"orange\"),mybike,Bike(50,\"black\")]\n",
    "for bike in fahrradschuppen:\n",
    "    print(bike)"
   ]
  },
  {
   "cell_type": "markdown",
   "metadata": {},
   "source": [
    "Nicht alle Programmiersprachen benutzen Klassen/sind objektorientiert (Rust z.B.), aber in Python ist das ein wichtiges Konzept.\n",
    "Vor allem wenn ihr Packages benutzen wollt, solltet ihr die Grundzüge verstanden haben."
   ]
  },
  {
   "cell_type": "markdown",
   "metadata": {
    "id": "OxgfqshGADh6",
    "jp-MarkdownHeadingCollapsed": true,
    "tags": []
   },
   "source": [
    "## Libraries = Packages = Modules\n",
    "Was macht ihr, wenn ihr mal nicht weiterwisst oder eine Formel nachschlagen wollt? Ihr geht in die Bibliothek, bzw. ins Internt und schaut nach.\n",
    "So muss das Rad nicht jedes Mal neu erfunden werden.\n",
    "Genau das geht in Python auch mit dem Import von packages. Das sind einfach python Dateien mit einer Menge Code und Funktionen, die viele verschiedene Dinge können. Ihr müsst aber nicht alles davon lesen, um damit zu arbeiten, sondern meist nur die Documentation.\n",
    "Hier ist z.B. die [Numpy Documentation](https://numpy.org/doc/stable/)\n",
    "\n",
    "In eurer Python Distribution sind bereits viele wichtige Packages enthalten. Mit sog. Package-Managern wie **pip** oder **conda** könnt ihr neue Libraries aus dem Internet installieren und eure Packages auf dem neuesten Stand halten. Es kommen nämlich regelmäig Updates! \n",
    "\n",
    "Es kann passieren, dass ihr auch einmal selbst ein Package schreibt. Wenn ihr z.B. eigene Methoden für eure Forschung oder Tätigkeit schreibt, die es so noch nicht gibt und ihr sie anderen zur Verfügung stellen wollt."
   ]
  },
  {
   "cell_type": "code",
   "execution_count": null,
   "metadata": {
    "id": "Gm58KE2yACH7"
   },
   "outputs": [],
   "source": [
    "# Beispiel aus der Python Standard Library (also vorinstalliert)\n",
    "#Numpy für effiziente Numerik auf Arrays\n",
    "import numpy as np # wir benennen numpy in np um, weil wir faul sind\n",
    "array=np.array([1,2,3,4])\n",
    "matrix=np.zeros((3,3))\n",
    "print(matrix)\n",
    "print(matrix+1)\n",
    "print(matrix[0,0])"
   ]
  },
  {
   "cell_type": "code",
   "execution_count": null,
   "metadata": {},
   "outputs": [],
   "source": [
    "print(\"mean: \",np.mean(array))\n",
    "print(\"log: \",np.log(array))"
   ]
  },
  {
   "cell_type": "code",
   "execution_count": null,
   "metadata": {
    "colab": {
     "base_uri": "https://localhost:8080/",
     "height": 322
    },
    "id": "8cC63bncR_9k",
    "outputId": "25ed3039-0179-436c-ee5f-052d0e220bbb"
   },
   "outputs": [],
   "source": [
    "import uncertainties"
   ]
  },
  {
   "cell_type": "markdown",
   "metadata": {},
   "source": [
    "**Ups, was ist da passiert?** \n",
    "\n",
    "Dieses Package/Module ist noch nicht standdardmäßig installiert\n",
    "Mit dem Package-Manager könnt ihr ein sog. Environment anlegen, also eine Datei in der die Packages, die Python Distribution und einige andere Dateien liegen. Es bietet sich an für verschiedene Projekte ein eigenes Environment zu erstellen, so könnt ihr verschiedene z.B. verschiedene Python Versionen verwenden und je nach Bedarf andere Packages verwenden.\n",
    "\n",
    "Auf der Konsole könnt ihr ein Package wie folgt installieren\n",
    "``` \n",
    "my_env/>_ pip install _package_name_\n",
    "```"
   ]
  },
  {
   "cell_type": "markdown",
   "metadata": {
    "id": "xwJWi3Dtc5Gn",
    "jp-MarkdownHeadingCollapsed": true,
    "tags": []
   },
   "source": [
    "## Ausnahmen für Kaefer: Bugs, Errors und Exceptions\n",
    "Da Computer deterministische Automaten sind, gibt es beim Programmieren feste Regeln. Werden sie verletzt, spuckt der Computer eine Fehlermeldung aus.\n",
    "Syntaxfehler fliegen direkt beim Compilieren auf. Runtimefehler erst mit Ausfuehrung des Programmes.\n",
    "Habt ihr einen Logic Error gemacht, dann merkt der Computer nichts davon, euer Programm funktioniert jedoch evtl. nicht wie gewuenscht."
   ]
  },
  {
   "cell_type": "markdown",
   "metadata": {
    "id": "R5k1v31iiUfd"
   },
   "source": [
    "### Syntaxfehler"
   ]
  },
  {
   "cell_type": "code",
   "execution_count": null,
   "metadata": {
    "colab": {
     "base_uri": "https://localhost:8080/",
     "height": 143
    },
    "id": "YMWK1ZwyiZkT",
    "outputId": "84a98ade-cbb6-4166-fefd-e583b9a43624"
   },
   "outputs": [],
   "source": [
    "# was fehlt hier?\n",
    "# wir verstehen, was gemeint ist, warum tut python das nicht?\n",
    "print \"hello world\""
   ]
  },
  {
   "cell_type": "markdown",
   "metadata": {
    "id": "IokL-Jh_k2KG"
   },
   "source": [
    "### Runtimefehler"
   ]
  },
  {
   "cell_type": "code",
   "execution_count": null,
   "metadata": {
    "colab": {
     "base_uri": "https://localhost:8080/",
     "height": 215
    },
    "id": "HRcLpkX3k7xn",
    "outputId": "6fe0bab5-75e1-4bf6-8b48-c432ba9a23de"
   },
   "outputs": [],
   "source": [
    "def plus(a,b):\n",
    "    return a+b\n",
    "a=1\n",
    "b=-2\n",
    "plus(a,c)"
   ]
  },
  {
   "cell_type": "code",
   "execution_count": null,
   "metadata": {
    "colab": {
     "base_uri": "https://localhost:8080/",
     "height": 179
    },
    "id": "AeR4wOybni4D",
    "outputId": "67d20038-82b6-4b7a-dbbc-c327f4f873ac"
   },
   "outputs": [],
   "source": [
    "import math\n",
    "math.sqrt(b)"
   ]
  },
  {
   "cell_type": "code",
   "execution_count": null,
   "metadata": {
    "colab": {
     "base_uri": "https://localhost:8080/",
     "height": 197
    },
    "id": "l3z63U-AmTBG",
    "outputId": "feff9e8c-34e1-4f7e-ee19-698b23f44686"
   },
   "outputs": [],
   "source": [
    "array=np.arange(0,5,0.5)\n",
    "array[10]"
   ]
  },
  {
   "cell_type": "markdown",
   "metadata": {
    "id": "cZA0A95Jm3-9"
   },
   "source": [
    "### Logic Error"
   ]
  },
  {
   "cell_type": "code",
   "execution_count": null,
   "metadata": {},
   "outputs": [],
   "source": [
    "1/0"
   ]
  },
  {
   "cell_type": "code",
   "execution_count": null,
   "metadata": {
    "colab": {
     "base_uri": "https://localhost:8080/"
    },
    "id": "HBRyt_QLm3bM",
    "outputId": "a9313b4a-9508-435c-ec15-8e7915858609"
   },
   "outputs": [],
   "source": [
    "# keine Fehlermeldung, aber was geht hier schief?\n",
    "def mittelwert(werte):\n",
    "    avg=0\n",
    "    N=len(werte)\n",
    "    for w in werte:\n",
    "        avg=avg+w/N\n",
    "        return avg\n",
    "\n",
    "mittelwert([1,2,3])"
   ]
  },
  {
   "cell_type": "markdown",
   "metadata": {},
   "source": [
    "### Exception Handling\n",
    "[Zum Nachlesen](https://www.geeksforgeeks.org/errors-and-exceptions-in-python/?ref=lbp)\n",
    "\n",
    "Normalerweise wird die Ausführung des Codes oder der Compiler unterbrochen, wenn ein Fehler auftritt. Einige Fehler lassen sich jedoch antizipieren und so gezielt abfangen und lösen, damit das Programm trotzdem weiter läuft.\n",
    "Das geschieht mittels **Try & Except** manchmal auch \"catch\" genannt:"
   ]
  },
  {
   "cell_type": "code",
   "execution_count": null,
   "metadata": {},
   "outputs": [],
   "source": [
    "try:\n",
    "    print(1+\"1\")\n",
    "except:\n",
    "    print(\"Error\")"
   ]
  },
  {
   "cell_type": "code",
   "execution_count": null,
   "metadata": {},
   "outputs": [],
   "source": [
    "def bruch(zaehler, nenner):\n",
    "    try:\n",
    "        if nenner == 0:\n",
    "            raise ValueError(\"Divide by zero\")\n",
    "        else:\n",
    "            return zaehler/nenner\n",
    "    except ValueError as e:\n",
    "        print(e)\n",
    "    except:\n",
    "        print(\"Error\")\n",
    "    print(\"Fertig berechnet\")\n",
    "\n",
    "bruch(\"\",1)"
   ]
  },
  {
   "cell_type": "markdown",
   "metadata": {
    "id": "cbNE5MoGiiX0"
   },
   "source": [
    "## Documentation / Code Conventions\n",
    "Stellt euch vor, ihr muesstet ein Fertigregal ganz ohne Bedienungsanleitung aufbauen. Das ist in etwa aequivalent mit dem Versuch euren nicht dokumentierten Spaghetticode von vor zwei Wochen zu verstehen.\n",
    "Sauberer, gut dokumentierter Code ist eine Tugend. Fangt daher am besten gleich damit an!\n"
   ]
  },
  {
   "cell_type": "markdown",
   "metadata": {
    "id": "NC8aldaQxlKw"
   },
   "source": []
  }
 ],
 "metadata": {
  "colab": {
   "provenance": []
  },
  "kernelspec": {
   "display_name": "Python 3 (ipykernel)",
   "language": "python",
   "name": "python3"
  },
  "language_info": {
   "codemirror_mode": {
    "name": "ipython",
    "version": 3
   },
   "file_extension": ".py",
   "mimetype": "text/x-python",
   "name": "python",
   "nbconvert_exporter": "python",
   "pygments_lexer": "ipython3",
   "version": "3.11.4"
  }
 },
 "nbformat": 4,
 "nbformat_minor": 4
}
