{
 "cells": [
  {
   "cell_type": "markdown",
   "metadata": {
    "id": "V9s2xeSaxlKd"
   },
   "source": [
    "# Python Grundlagen - Einführung in die Welt der Programmierung\n",
    "Arthur Wohlfahrt & Murphy Sünnenwold"
   ]
  },
  {
   "cell_type": "markdown",
   "metadata": {
    "tags": []
   },
   "source": [
    "## Was sind Jupyter-Notebooks?"
   ]
  },
  {
   "cell_type": "markdown",
   "metadata": {},
   "source": [
    "Das hier ist ein sogenanntes Jupyter-Notebook. Notebooks eignen sich besonders als Einstieg, für wissenschaftliche Berichte und interaktive Sessions.\n",
    "Der Vorteil im Vergleich zu anderen Programmierumgebungen liegt darin, dass Programmbausteine einzeln in sogenannten Zellen ausgeführt werden können. So ist direkt ersichtlich was jede Zeile im Code bewirkt.\n",
    "Es gibt drei verschiedene Typen von Zellen in Jupyter: Markdown (also formatierter Text), Code und Raw.\n",
    "Falls die Codeblöcke einen Output (z.B. eine Zahl oder eine Grafik) wird dieser direkt darunter ausgegeben.\n",
    "\n",
    "Hier ein paar nützliche Shortcuts:\n",
    "-  Mit \"Shift + Enter\" führt die den Inhalt der Zelle aus\n",
    "-  \"a\"/\"b\" fügt eine Zelle above oder below der aktuellen ein.\n",
    "-  \"dd\" löscht die aktuelle Zelle\n",
    "-  Ihr könnt Zellen verschieben, trennen und zusammenfügen\n",
    "-  Mit dem \"%\" Symbol könnt ihr sog. [Magic-Befehle](https://notebook.community/CestDiego/emacs-ipython-notebook/tests/notebook/nbformat4/Cell%20Magics) verwenden\n",
    "\n",
    "Zum Vertiefen findet ihr hier die [Jupyter Documentation](https://jupyterlab.readthedocs.io/en/latest/)"
   ]
  },
  {
   "cell_type": "markdown",
   "metadata": {
    "id": "CtV6qeQqxlKh",
    "tags": []
   },
   "source": [
    "## Variabeln"
   ]
  },
  {
   "cell_type": "markdown",
   "metadata": {
    "id": "BKBEvaEdxlKi"
   },
   "source": [
    "Variablen deklarieren/initialisieren, Datentypen"
   ]
  },
  {
   "cell_type": "code",
   "execution_count": 5,
   "metadata": {
    "id": "UTeZXM4IxlKj"
   },
   "outputs": [],
   "source": [
    "a = 33 # int (integer)\n",
    "b = 3.1415926539 # float (floating point number)\n",
    "hello_world = \"Hello World\" # str (string)\n",
    "character = 'a' # char (character)\n",
    "wahr = True # bool (boolean)\n",
    "liste = [1, 2, 3] # list\n",
    "tupel = (1, 2, 3) # tuple\n",
    "objekt = {\"a\": 1, \"b\": 2, \"c\": 3} # dict (dictionary)"
   ]
  },
  {
   "cell_type": "markdown",
   "metadata": {
    "id": "MAJzdTeRxlKl"
   },
   "source": [
    "Ausgeben (printing)"
   ]
  },
  {
   "cell_type": "code",
   "execution_count": 6,
   "metadata": {
    "colab": {
     "base_uri": "https://localhost:8080/"
    },
    "id": "k_BBeJYCxlKn",
    "outputId": "2ae06bfb-2570-445a-d689-c7bb5e0f543f"
   },
   "outputs": [
    {
     "name": "stdout",
     "output_type": "stream",
     "text": [
      "Hello World\n",
      "[1, 2, 3]\n"
     ]
    }
   ],
   "source": [
    "print(hello_world)\n",
    "print(liste)"
   ]
  },
  {
   "cell_type": "code",
   "execution_count": 7,
   "metadata": {
    "colab": {
     "base_uri": "https://localhost:8080/",
     "height": 35
    },
    "id": "q_A2lwoLx48q",
    "outputId": "f26a82dd-d500-4eec-be9a-137de148e774"
   },
   "outputs": [
    {
     "data": {
      "text/plain": [
       "'Hey Böllis!'"
      ]
     },
     "execution_count": 7,
     "metadata": {},
     "output_type": "execute_result"
    }
   ],
   "source": [
    "\"Hey Böllis!\" # das funktioniert nur hier im \"Notebook\" Das letzte Statement einer Zelle wird ausgegeben"
   ]
  },
  {
   "cell_type": "markdown",
   "metadata": {},
   "source": [
    "Listen & Dictionaries"
   ]
  },
  {
   "cell_type": "code",
   "execution_count": 8,
   "metadata": {},
   "outputs": [
    {
     "name": "stdout",
     "output_type": "stream",
     "text": [
      "[1, 2, 3]\n",
      "1\n",
      "3\n",
      "[2, 3]\n",
      "[1, 1, 3]\n"
     ]
    }
   ],
   "source": [
    "print(liste)\n",
    "print(liste[0])\n",
    "print(liste[-1])\n",
    "print(liste[1:3]) \n",
    "liste[1] = 1 \n",
    "print(liste)"
   ]
  },
  {
   "cell_type": "code",
   "execution_count": 9,
   "metadata": {},
   "outputs": [
    {
     "name": "stdout",
     "output_type": "stream",
     "text": [
      "{'a': 1, 'b': 2, 'c': 3}\n",
      "1\n",
      "{'a': 1, 'b': 2, 'c': 3, 'd': 4}\n"
     ]
    }
   ],
   "source": [
    "print(objekt)\n",
    "print(objekt[\"a\"])\n",
    "objekt[\"d\"] = 4\n",
    "print(objekt)"
   ]
  },
  {
   "cell_type": "markdown",
   "metadata": {
    "id": "MLqgfJLdxlKo"
   },
   "source": [
    "Mathematische Operationen auf Zahlen"
   ]
  },
  {
   "cell_type": "code",
   "execution_count": 10,
   "metadata": {
    "id": "dBg_NozqxlKp",
    "outputId": "abce1f8b-af66-4dbd-c3ce-1f5505d1870d"
   },
   "outputs": [
    {
     "name": "stdout",
     "output_type": "stream",
     "text": [
      "36.1415926539\n"
     ]
    }
   ],
   "source": [
    "print(a + b)\n",
    "# + Addition\n",
    "# - Subtraktion\n",
    "# * Multiplikation\n",
    "# / Division\n",
    "# // Ganzzahlige Division (3//2 = 1)\n",
    "# ** Potenz (3**2)\n",
    "# % Modulo (Rest bei Ganzzahliger Division) (3%2 = 1)"
   ]
  },
  {
   "cell_type": "markdown",
   "metadata": {
    "id": "fgsL1b_xxlKq"
   },
   "source": [
    "Operationen auf anderen Datentypen (Auswahl)"
   ]
  },
  {
   "cell_type": "code",
   "execution_count": 11,
   "metadata": {
    "colab": {
     "base_uri": "https://localhost:8080/"
    },
    "id": "0_clzMLsxlKr",
    "outputId": "3c07346c-451b-4528-e209-e14f91785180"
   },
   "outputs": [
    {
     "name": "stdout",
     "output_type": "stream",
     "text": [
      "Hello World!\n",
      "[1, 2, 3, 4]\n",
      "3\n"
     ]
    }
   ],
   "source": [
    "print(hello_world + \"!\")\n",
    "print([1,2]+[3,4])\n",
    "print(len(liste))"
   ]
  },
  {
   "cell_type": "code",
   "execution_count": 12,
   "metadata": {},
   "outputs": [
    {
     "ename": "TypeError",
     "evalue": "unsupported operand type(s) for +: 'dict' and 'dict'",
     "output_type": "error",
     "traceback": [
      "\u001b[1;31m---------------------------------------------------------------------------\u001b[0m",
      "\u001b[1;31mTypeError\u001b[0m                                 Traceback (most recent call last)",
      "Cell \u001b[1;32mIn[12], line 2\u001b[0m\n\u001b[0;32m      1\u001b[0m \u001b[39m# Error! Dictionaries können nicht addiert werden. Wieso?\u001b[39;00m\n\u001b[1;32m----> 2\u001b[0m \u001b[39mprint\u001b[39m({\u001b[39m\"\u001b[39;49m\u001b[39ma\u001b[39;49m\u001b[39m\"\u001b[39;49m:\u001b[39m1\u001b[39;49m,\u001b[39m\"\u001b[39;49m\u001b[39mb\u001b[39;49m\u001b[39m\"\u001b[39;49m:\u001b[39m2\u001b[39;49m}\u001b[39m+\u001b[39;49m{\u001b[39m\"\u001b[39;49m\u001b[39mb\u001b[39;49m\u001b[39m\"\u001b[39;49m:\u001b[39m3\u001b[39;49m,\u001b[39m\"\u001b[39;49m\u001b[39mc\u001b[39;49m\u001b[39m\"\u001b[39;49m:\u001b[39m4\u001b[39;49m}) \n",
      "\u001b[1;31mTypeError\u001b[0m: unsupported operand type(s) for +: 'dict' and 'dict'"
     ]
    }
   ],
   "source": [
    "# Error! Dictionaries können nicht addiert werden. Wieso?\n",
    "print({\"a\":1,\"b\":2}+{\"b\":3,\"c\":4}) "
   ]
  },
  {
   "cell_type": "markdown",
   "metadata": {
    "jp-MarkdownHeadingCollapsed": true,
    "tags": []
   },
   "source": [
    "## Bedingungen"
   ]
  },
  {
   "cell_type": "code",
   "execution_count": 13,
   "metadata": {},
   "outputs": [
    {
     "name": "stdout",
     "output_type": "stream",
     "text": [
      "Die Variable a ist wahr\n"
     ]
    }
   ],
   "source": [
    "boolean = True\n",
    "\n",
    "if boolean:\n",
    "    print(\"Die Variable a ist wahr\")\n",
    "else:\n",
    "    print(\"Die Variable a ist falsch\")"
   ]
  },
  {
   "cell_type": "code",
   "execution_count": 14,
   "metadata": {},
   "outputs": [
    {
     "name": "stdout",
     "output_type": "stream",
     "text": [
      "Zahl ist 33\n"
     ]
    }
   ],
   "source": [
    "zahl = 33\n",
    "\n",
    "if zahl == 33:\n",
    "    print(\"Zahl ist 33\")\n",
    "elif zahl == 34:\n",
    "    print(\"Zahl ist 34\")\n",
    "elif zahl == 35:\n",
    "    print(\"Zahl ist 35\")\n",
    "else:\n",
    "    print(\"Zahl ist weder 33, 34 noch 35\")"
   ]
  },
  {
   "cell_type": "markdown",
   "metadata": {
    "id": "JkGD994vxlKs",
    "tags": []
   },
   "source": [
    "## Loops (Schleifen)\n"
   ]
  },
  {
   "cell_type": "code",
   "execution_count": 15,
   "metadata": {
    "id": "X2d7glCWxlKt",
    "outputId": "4895df82-b684-4382-ac77-20aa1b2e5ccf"
   },
   "outputs": [
    {
     "name": "stdout",
     "output_type": "stream",
     "text": [
      "1\n",
      "2\n",
      "3\n",
      "4\n",
      "5\n",
      "6\n",
      "7\n",
      "8\n",
      "9\n"
     ]
    }
   ],
   "source": [
    "for item in range(1, 10):\n",
    "    print(item)"
   ]
  },
  {
   "cell_type": "code",
   "execution_count": 16,
   "metadata": {
    "id": "00K21Y4oxlKu",
    "outputId": "424fad44-062e-425a-e5eb-1a444fcbb163"
   },
   "outputs": [
    {
     "name": "stdout",
     "output_type": "stream",
     "text": [
      "[1, 1, 3]\n",
      "2\n",
      "2\n",
      "4\n"
     ]
    }
   ],
   "source": [
    "print(liste)\n",
    "for i in liste:\n",
    "    print(i + 1)"
   ]
  },
  {
   "cell_type": "code",
   "execution_count": 17,
   "metadata": {
    "colab": {
     "base_uri": "https://localhost:8080/"
    },
    "id": "3OjFMKdzzrvF",
    "outputId": "f1379f28-aee0-459d-80ae-073cbb40a275"
   },
   "outputs": [
    {
     "name": "stdout",
     "output_type": "stream",
     "text": [
      "--\n",
      "0\n",
      "--\n",
      "0\n",
      "1\n",
      "--\n",
      "0\n",
      "1\n",
      "2\n",
      "--\n",
      "0\n",
      "1\n",
      "2\n",
      "3\n",
      "--\n"
     ]
    }
   ],
   "source": [
    "i=0\n",
    "while i<5:\n",
    "    for j in range(i):\n",
    "        print(j)\n",
    "    print(\"--\")\n",
    "    i+=1"
   ]
  },
  {
   "cell_type": "code",
   "execution_count": 18,
   "metadata": {
    "id": "OmTPTe0CyvYM"
   },
   "outputs": [],
   "source": [
    "#while True:\n",
    "#    print(\"infinite loop\")"
   ]
  },
  {
   "cell_type": "markdown",
   "metadata": {
    "id": "yLr577EixlKu",
    "tags": []
   },
   "source": [
    "## Funktionen"
   ]
  },
  {
   "cell_type": "code",
   "execution_count": 19,
   "metadata": {
    "colab": {
     "base_uri": "https://localhost:8080/",
     "height": 179
    },
    "id": "yvev_pTSxlKv",
    "outputId": "e519cb4b-108c-4568-a2e4-9aa10c96f950"
   },
   "outputs": [
    {
     "name": "stdout",
     "output_type": "stream",
     "text": [
      "33 3.1415926539\n"
     ]
    }
   ],
   "source": [
    "print(a,b)"
   ]
  },
  {
   "cell_type": "code",
   "execution_count": 20,
   "metadata": {
    "colab": {
     "base_uri": "https://localhost:8080/",
     "height": 53
    },
    "id": "Za38O0F-0Xok",
    "outputId": "0774de85-0b70-4cf1-a255-a358ced42e66"
   },
   "outputs": [
    {
     "name": "stdout",
     "output_type": "stream",
     "text": [
      "Happy Birthday Murphy! You are 22.0 years old.\n",
      "Happy Birthday Murphy! You are 22.8 years old.\n"
     ]
    }
   ],
   "source": [
    "def happy_bday(name,age=22):\n",
    "    return f\"Happy Birthday {name}! You are {age:.1f} years old.\"\n",
    "\n",
    "print(happy_bday(\"Murphy\"))\n",
    "print(happy_bday(\"Murphy\",age=22.78346))"
   ]
  },
  {
   "cell_type": "code",
   "execution_count": 21,
   "metadata": {},
   "outputs": [
    {
     "name": "stdout",
     "output_type": "stream",
     "text": [
      "1\n"
     ]
    }
   ],
   "source": [
    "# was geht hier schief?\n",
    "def inc(x):\n",
    "    x += 1 # x = x + 1\n",
    "\n",
    "a = 1\n",
    "inc(a)\n",
    "print(a)"
   ]
  },
  {
   "cell_type": "markdown",
   "metadata": {},
   "source": [
    "## Scoping\n",
    "Jede Variable hat ihren Scope, also sozusagen ihr Heimatdorf. Dort kennen sie alle mit Namen und es gibt keine zweite, die den gleichen Namen trägt.\n",
    "Außerhalb des Scopes (oder des Dorfes) kann der gleiche Name jedoch einer anderen Variable gegeben werden. Das ist bei lokalen Variablen der Fall.\n",
    "\n",
    "Lokale Variablen existieren nur in ihrem lokalen Scope, also z.B. einer Funktion. Nur dort kann auf sie zugegriffen werden\n",
    "Globale Variablen gibt es hingegen nur einmal im ganzen Programm und sie können von überall gelesen und geschrieben werden.\n",
    "\n",
    "Achtung Besonderheit bei Jupyter Notebooks!"
   ]
  },
  {
   "cell_type": "code",
   "execution_count": 22,
   "metadata": {},
   "outputs": [
    {
     "ename": "NameError",
     "evalue": "name 'h' is not defined",
     "output_type": "error",
     "traceback": [
      "\u001b[1;31m---------------------------------------------------------------------------\u001b[0m",
      "\u001b[1;31mNameError\u001b[0m                                 Traceback (most recent call last)",
      "Cell \u001b[1;32mIn[22], line 5\u001b[0m\n\u001b[0;32m      2\u001b[0m     h \u001b[39m=\u001b[39m \u001b[39m20\u001b[39m\n\u001b[0;32m      4\u001b[0m funktion()\n\u001b[1;32m----> 5\u001b[0m \u001b[39mprint\u001b[39m(h)    \n",
      "\u001b[1;31mNameError\u001b[0m: name 'h' is not defined"
     ]
    }
   ],
   "source": [
    "def funktion():\n",
    "    h = 20\n",
    "    \n",
    "funktion()\n",
    "print(h)    "
   ]
  },
  {
   "cell_type": "markdown",
   "metadata": {
    "id": "vO2XGKvU113k",
    "jp-MarkdownHeadingCollapsed": true,
    "tags": []
   },
   "source": [
    "## Objektorientierung / Klassen\n",
    "Klassen und Objekte dienen dazu die reale Welt zu erfassen und im Programm abzubilden. So z.B. ein Fahrrad. Seine Eigenschaften wie die Rahmenhoehe oder die Farbe werden als \"Attribute\" gespeichert."
   ]
  },
  {
   "cell_type": "code",
   "execution_count": 23,
   "metadata": {
    "colab": {
     "base_uri": "https://localhost:8080/"
    },
    "id": "gqq7mue_2zCN",
    "outputId": "0a0f0ec5-8855-4cda-f6f3-06b518caf4d1"
   },
   "outputs": [
    {
     "name": "stdout",
     "output_type": "stream",
     "text": [
      "Bike(57, \"silver\")\n",
      "silver bike with frame size 57cm.\n"
     ]
    }
   ],
   "source": [
    "class Bike:\n",
    "    # diese Funktion ist der Constructor\n",
    "    def __init__(self,size:int,color):\n",
    "        self.size=size # frame size in cm\n",
    "        self.color=color\n",
    "\n",
    "    def lackieren(self,new_color):\n",
    "        self.color=new_color\n",
    "\n",
    "    def __str__(self):\n",
    "        return f'{self.color} bike with frame size {self.size}cm.'\n",
    "\n",
    "    def __repr__(self):\n",
    "        return f'Bike({self.size}, \\\"{self.color}\\\")'\n",
    "\n",
    "mybike=Bike(57,\"silver\")  # erstelle eine Instance der Klasse Bike mit dem Constructor\n",
    "print(mybike.__repr__())\n",
    "print(mybike)\n"
   ]
  },
  {
   "cell_type": "code",
   "execution_count": 24,
   "metadata": {
    "colab": {
     "base_uri": "https://localhost:8080/",
     "height": 53
    },
    "id": "xCtfFmoeRXG4",
    "outputId": "a04f1689-578a-4ab0-ee63-0a379d105162"
   },
   "outputs": [
    {
     "name": "stdout",
     "output_type": "stream",
     "text": [
      "silver\n"
     ]
    },
    {
     "data": {
      "text/plain": [
       "'yellow'"
      ]
     },
     "execution_count": 24,
     "metadata": {},
     "output_type": "execute_result"
    }
   ],
   "source": [
    "print(mybike.color)\n",
    "mybike.lackieren(\"yellow\")\n",
    "mybike.color"
   ]
  },
  {
   "cell_type": "code",
   "execution_count": 25,
   "metadata": {
    "colab": {
     "base_uri": "https://localhost:8080/"
    },
    "id": "WuRN9TrxDUTU",
    "outputId": "ddffcd1f-00cd-4a95-fc1b-65048f49ef25"
   },
   "outputs": [
    {
     "name": "stdout",
     "output_type": "stream",
     "text": [
      "orange bike with frame size 30cm.\n",
      "yellow bike with frame size 57cm.\n",
      "black bike with frame size 50cm.\n"
     ]
    }
   ],
   "source": [
    "# Wie Integer oder Strings lassen sich auch Objekte der Klasse \"Bike\" in eine Liste stecken.\n",
    "fahrradschuppen = [Bike(30,\"orange\"),mybike,Bike(50,\"black\")]\n",
    "for bike in fahrradschuppen:\n",
    "    print(bike)"
   ]
  },
  {
   "cell_type": "markdown",
   "metadata": {},
   "source": [
    "Nicht alle Programmiersprachen benutzen Klassen/sind objektorientiert (Rust z.B.), aber in Python ist das ein wichtiges Konzept.\n",
    "Vor allem wenn ihr Packages benutzen wollt, solltet ihr die Grundzüge verstanden haben."
   ]
  },
  {
   "cell_type": "markdown",
   "metadata": {
    "id": "OxgfqshGADh6",
    "jp-MarkdownHeadingCollapsed": true,
    "tags": []
   },
   "source": [
    "## Libraries = Packages = Modules\n",
    "Was macht ihr, wenn ihr mal nicht weiterwisst oder eine Formel nachschlagen wollt? Ihr geht in die Bibliothek, bzw. ins Internt und schaut nach.\n",
    "So muss das Rad nicht jedes Mal neu erfunden werden.\n",
    "Genau das geht in Python auch mit dem Import von packages. Das sind einfach python Dateien mit einer Menge Code und Funktionen, die viele verschiedene Dinge können. Ihr müsst aber nicht alles davon lesen, um damit zu arbeiten, sondern meist nur die Documentation.\n",
    "Hier ist z.B. die [Numpy Documentation](https://numpy.org/doc/stable/)\n",
    "\n",
    "In eurer Python Distribution sind bereits viele wichtige Packages enthalten. Mit sog. Package-Managern wie **pip** oder **conda** könnt ihr neue Libraries aus dem Internet installieren und eure Packages auf dem neuesten Stand halten. Es kommen nämlich regelmäig Updates! \n",
    "\n",
    "Es kann passieren, dass ihr auch einmal selbst ein Package schreibt. Wenn ihr z.B. eigene Methoden für eure Forschung oder Tätigkeit schreibt, die es so noch nicht gibt und ihr sie anderen zur Verfügung stellen wollt."
   ]
  },
  {
   "cell_type": "code",
   "execution_count": 26,
   "metadata": {
    "id": "Gm58KE2yACH7"
   },
   "outputs": [
    {
     "name": "stdout",
     "output_type": "stream",
     "text": [
      "[[0. 0. 0.]\n",
      " [0. 0. 0.]\n",
      " [0. 0. 0.]]\n",
      "[[1. 1. 1.]\n",
      " [1. 1. 1.]\n",
      " [1. 1. 1.]]\n",
      "0.0\n"
     ]
    }
   ],
   "source": [
    "# Beispiel aus der Python Standard Library (also vorinstalliert)\n",
    "#Numpy für effiziente Numerik auf Arrays\n",
    "import numpy as np # wir benennen numpy in np um, weil wir faul sind\n",
    "array=np.array([1,2,3,4])\n",
    "matrix=np.zeros((3,3))\n",
    "print(matrix)\n",
    "print(matrix+1)\n",
    "print(matrix[0,0])"
   ]
  },
  {
   "cell_type": "code",
   "execution_count": 27,
   "metadata": {},
   "outputs": [
    {
     "name": "stdout",
     "output_type": "stream",
     "text": [
      "mean:  2.5\n",
      "log:  [0.         0.69314718 1.09861229 1.38629436]\n"
     ]
    }
   ],
   "source": [
    "print(\"mean: \",np.mean(array))\n",
    "print(\"log: \",np.log(array))"
   ]
  },
  {
   "cell_type": "code",
   "execution_count": 28,
   "metadata": {
    "colab": {
     "base_uri": "https://localhost:8080/",
     "height": 322
    },
    "id": "8cC63bncR_9k",
    "outputId": "25ed3039-0179-436c-ee5f-052d0e220bbb"
   },
   "outputs": [
    {
     "ename": "ModuleNotFoundError",
     "evalue": "No module named 'uncertainties'",
     "output_type": "error",
     "traceback": [
      "\u001b[1;31m---------------------------------------------------------------------------\u001b[0m",
      "\u001b[1;31mModuleNotFoundError\u001b[0m                       Traceback (most recent call last)",
      "Cell \u001b[1;32mIn[28], line 1\u001b[0m\n\u001b[1;32m----> 1\u001b[0m \u001b[39mimport\u001b[39;00m \u001b[39muncertainties\u001b[39;00m\n",
      "\u001b[1;31mModuleNotFoundError\u001b[0m: No module named 'uncertainties'"
     ]
    }
   ],
   "source": [
    "import uncertainties"
   ]
  },
  {
   "cell_type": "markdown",
   "metadata": {},
   "source": [
    "**Ups, was ist da passiert?** \n",
    "\n",
    "Dieses Package/Module ist noch nicht standdardmäßig installiert\n",
    "Mit dem Package-Manager könnt ihr ein sog. Environment anlegen, also eine Datei in der die Packages, die Python Distribution und einige andere Dateien liegen. Es bietet sich an für verschiedene Projekte ein eigenes Environment zu erstellen, so könnt ihr verschiedene z.B. verschiedene Python Versionen verwenden und je nach Bedarf andere Packages verwenden.\n",
    "\n",
    "Auf der Konsole könnt ihr ein Package wie folgt installieren\n",
    "``` \n",
    "my_env/>_ pip install _package_name_\n",
    "```"
   ]
  },
  {
   "cell_type": "markdown",
   "metadata": {
    "id": "xwJWi3Dtc5Gn",
    "jp-MarkdownHeadingCollapsed": true,
    "tags": []
   },
   "source": [
    "## Ausnahmen für Kaefer: Bugs, Errors und Exceptions\n",
    "Da Computer deterministische Automaten sind, gibt es beim Programmieren feste Regeln. Werden sie verletzt, spuckt der Computer eine Fehlermeldung aus.\n",
    "Syntaxfehler fliegen direkt beim Compilieren auf. Runtimefehler erst mit Ausfuehrung des Programmes.\n",
    "Habt ihr einen Logic Error gemacht, dann merkt der Computer nichts davon, euer Programm funktioniert jedoch evtl. nicht wie gewuenscht."
   ]
  },
  {
   "cell_type": "markdown",
   "metadata": {
    "id": "R5k1v31iiUfd"
   },
   "source": [
    "### Syntaxfehler"
   ]
  },
  {
   "cell_type": "code",
   "execution_count": 29,
   "metadata": {
    "colab": {
     "base_uri": "https://localhost:8080/",
     "height": 143
    },
    "id": "YMWK1ZwyiZkT",
    "outputId": "84a98ade-cbb6-4166-fefd-e583b9a43624"
   },
   "outputs": [
    {
     "ename": "SyntaxError",
     "evalue": "Missing parentheses in call to 'print'. Did you mean print(...)? (551328885.py, line 3)",
     "output_type": "error",
     "traceback": [
      "\u001b[1;36m  Cell \u001b[1;32mIn[29], line 3\u001b[1;36m\u001b[0m\n\u001b[1;33m    print \"hello world\"\u001b[0m\n\u001b[1;37m    ^\u001b[0m\n\u001b[1;31mSyntaxError\u001b[0m\u001b[1;31m:\u001b[0m Missing parentheses in call to 'print'. Did you mean print(...)?\n"
     ]
    }
   ],
   "source": [
    "# was fehlt hier?\n",
    "# wir verstehen, was gemeint ist, warum tut python das nicht?\n",
    "print \"hello world\""
   ]
  },
  {
   "cell_type": "markdown",
   "metadata": {
    "id": "IokL-Jh_k2KG"
   },
   "source": [
    "### Runtimefehler"
   ]
  },
  {
   "cell_type": "code",
   "execution_count": 30,
   "metadata": {
    "colab": {
     "base_uri": "https://localhost:8080/",
     "height": 215
    },
    "id": "HRcLpkX3k7xn",
    "outputId": "6fe0bab5-75e1-4bf6-8b48-c432ba9a23de"
   },
   "outputs": [
    {
     "ename": "NameError",
     "evalue": "name 'c' is not defined",
     "output_type": "error",
     "traceback": [
      "\u001b[1;31m---------------------------------------------------------------------------\u001b[0m",
      "\u001b[1;31mNameError\u001b[0m                                 Traceback (most recent call last)",
      "Cell \u001b[1;32mIn[30], line 5\u001b[0m\n\u001b[0;32m      3\u001b[0m a\u001b[39m=\u001b[39m\u001b[39m1\u001b[39m\n\u001b[0;32m      4\u001b[0m b\u001b[39m=\u001b[39m\u001b[39m-\u001b[39m\u001b[39m2\u001b[39m\n\u001b[1;32m----> 5\u001b[0m plus(a,c)\n",
      "\u001b[1;31mNameError\u001b[0m: name 'c' is not defined"
     ]
    }
   ],
   "source": [
    "def plus(a,b):\n",
    "    return a+b\n",
    "a=1\n",
    "b=-2\n",
    "plus(a,c)"
   ]
  },
  {
   "cell_type": "code",
   "execution_count": 31,
   "metadata": {
    "colab": {
     "base_uri": "https://localhost:8080/",
     "height": 179
    },
    "id": "AeR4wOybni4D",
    "outputId": "67d20038-82b6-4b7a-dbbc-c327f4f873ac"
   },
   "outputs": [
    {
     "ename": "ValueError",
     "evalue": "math domain error",
     "output_type": "error",
     "traceback": [
      "\u001b[1;31m---------------------------------------------------------------------------\u001b[0m",
      "\u001b[1;31mValueError\u001b[0m                                Traceback (most recent call last)",
      "Cell \u001b[1;32mIn[31], line 2\u001b[0m\n\u001b[0;32m      1\u001b[0m \u001b[39mimport\u001b[39;00m \u001b[39mmath\u001b[39;00m\n\u001b[1;32m----> 2\u001b[0m math\u001b[39m.\u001b[39;49msqrt(b)\n",
      "\u001b[1;31mValueError\u001b[0m: math domain error"
     ]
    }
   ],
   "source": [
    "import math\n",
    "math.sqrt(b)"
   ]
  },
  {
   "cell_type": "code",
   "execution_count": 32,
   "metadata": {
    "colab": {
     "base_uri": "https://localhost:8080/",
     "height": 197
    },
    "id": "l3z63U-AmTBG",
    "outputId": "feff9e8c-34e1-4f7e-ee19-698b23f44686"
   },
   "outputs": [
    {
     "ename": "IndexError",
     "evalue": "index 10 is out of bounds for axis 0 with size 10",
     "output_type": "error",
     "traceback": [
      "\u001b[1;31m---------------------------------------------------------------------------\u001b[0m",
      "\u001b[1;31mIndexError\u001b[0m                                Traceback (most recent call last)",
      "Cell \u001b[1;32mIn[32], line 2\u001b[0m\n\u001b[0;32m      1\u001b[0m array\u001b[39m=\u001b[39mnp\u001b[39m.\u001b[39marange(\u001b[39m0\u001b[39m,\u001b[39m5\u001b[39m,\u001b[39m0.5\u001b[39m)\n\u001b[1;32m----> 2\u001b[0m array[\u001b[39m10\u001b[39;49m]\n",
      "\u001b[1;31mIndexError\u001b[0m: index 10 is out of bounds for axis 0 with size 10"
     ]
    }
   ],
   "source": [
    "array=np.arange(0,5,0.5)\n",
    "array[10]"
   ]
  },
  {
   "cell_type": "markdown",
   "metadata": {
    "id": "cZA0A95Jm3-9"
   },
   "source": [
    "### Logic Error"
   ]
  },
  {
   "cell_type": "code",
   "execution_count": 33,
   "metadata": {},
   "outputs": [
    {
     "ename": "ZeroDivisionError",
     "evalue": "division by zero",
     "output_type": "error",
     "traceback": [
      "\u001b[1;31m---------------------------------------------------------------------------\u001b[0m",
      "\u001b[1;31mZeroDivisionError\u001b[0m                         Traceback (most recent call last)",
      "Cell \u001b[1;32mIn[33], line 1\u001b[0m\n\u001b[1;32m----> 1\u001b[0m \u001b[39m1\u001b[39;49m\u001b[39m/\u001b[39;49m\u001b[39m0\u001b[39;49m\n",
      "\u001b[1;31mZeroDivisionError\u001b[0m: division by zero"
     ]
    }
   ],
   "source": [
    "1/0"
   ]
  },
  {
   "cell_type": "code",
   "execution_count": 34,
   "metadata": {
    "colab": {
     "base_uri": "https://localhost:8080/"
    },
    "id": "HBRyt_QLm3bM",
    "outputId": "a9313b4a-9508-435c-ec15-8e7915858609"
   },
   "outputs": [
    {
     "data": {
      "text/plain": [
       "0.3333333333333333"
      ]
     },
     "execution_count": 34,
     "metadata": {},
     "output_type": "execute_result"
    }
   ],
   "source": [
    "# keine Fehlermeldung, aber was geht hier schief?\n",
    "def mittelwert(werte):\n",
    "    avg=0\n",
    "    N=len(werte)\n",
    "    for w in werte:\n",
    "        avg=avg+w/N\n",
    "        return avg\n",
    "\n",
    "mittelwert([1,2,3])"
   ]
  },
  {
   "cell_type": "markdown",
   "metadata": {},
   "source": [
    "### Exception Handling\n",
    "[Zum Nachlesen](https://www.geeksforgeeks.org/errors-and-exceptions-in-python/?ref=lbp)\n",
    "\n",
    "Normalerweise wird die Ausführung des Codes oder der Compiler unterbrochen, wenn ein Fehler auftritt. Einige Fehler lassen sich jedoch antizipieren und so gezielt abfangen und lösen, damit das Programm trotzdem weiter läuft.\n",
    "Das geschieht mittels **Try & Except** manchmal auch \"catch\" genannt:"
   ]
  },
  {
   "cell_type": "code",
   "execution_count": 35,
   "metadata": {},
   "outputs": [
    {
     "name": "stdout",
     "output_type": "stream",
     "text": [
      "Error\n"
     ]
    }
   ],
   "source": [
    "try:\n",
    "    print(1+\"1\")\n",
    "except:\n",
    "    print(\"Error\")"
   ]
  },
  {
   "cell_type": "code",
   "execution_count": 36,
   "metadata": {},
   "outputs": [
    {
     "name": "stdout",
     "output_type": "stream",
     "text": [
      "Error\n",
      "Fertig berechnet\n"
     ]
    }
   ],
   "source": [
    "def bruch(zaehler, nenner):\n",
    "    try:\n",
    "        if nenner == 0:\n",
    "            raise ValueError(\"Divide by zero\")\n",
    "        else:\n",
    "            return zaehler/nenner\n",
    "    except ValueError as e:\n",
    "        print(e)\n",
    "    except:\n",
    "        print(\"Error\")\n",
    "    print(\"Fertig berechnet\")\n",
    "\n",
    "bruch(\"\",1)"
   ]
  },
  {
   "cell_type": "markdown",
   "metadata": {
    "id": "cbNE5MoGiiX0"
   },
   "source": [
    "## Documentation / Code Conventions\n",
    "Stellt euch vor, ihr muesstet ein Fertigregal ganz ohne Bedienungsanleitung aufbauen. Das ist in etwa aequivalent mit dem Versuch euren nicht dokumentierten Spaghetticode von vor zwei Wochen zu verstehen.\n",
    "Sauberer, gut dokumentierter Code ist eine Tugend. Fangt daher am besten gleich damit an!\n"
   ]
  },
  {
   "cell_type": "markdown",
   "metadata": {
    "id": "NC8aldaQxlKw"
   },
   "source": []
  }
 ],
 "metadata": {
  "colab": {
   "provenance": []
  },
  "kernelspec": {
   "display_name": "Python 3 (ipykernel)",
   "language": "python",
   "name": "python3"
  },
  "language_info": {
   "codemirror_mode": {
    "name": "ipython",
    "version": 3
   },
   "file_extension": ".py",
   "mimetype": "text/x-python",
   "name": "python",
   "nbconvert_exporter": "python",
   "pygments_lexer": "ipython3",
   "version": "3.11.4"
  }
 },
 "nbformat": 4,
 "nbformat_minor": 4
}
