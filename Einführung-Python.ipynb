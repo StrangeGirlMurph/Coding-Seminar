{
  "cells": [
    {
      "cell_type": "markdown",
      "metadata": {
        "id": "V9s2xeSaxlKd"
      },
      "source": [
        "# Python Grundlagen - Einführung in die Welt der Programmierung\n",
        "Arthur Wohlfahrt & Murphy Sünnenwold"
      ]
    },
    {
      "cell_type": "markdown",
      "metadata": {
        "id": "CtV6qeQqxlKh"
      },
      "source": [
        "## Variabeln"
      ]
    },
    {
      "cell_type": "markdown",
      "metadata": {
        "id": "BKBEvaEdxlKi"
      },
      "source": [
        "Variablen deklarieren/initialisieren, Datentypen"
      ]
    },
    {
      "cell_type": "code",
      "execution_count": 3,
      "metadata": {
        "id": "UTeZXM4IxlKj"
      },
      "outputs": [],
      "source": [
        "numA = 33 # int (integer)\n",
        "numB = 3.1415926539 # float (floating point number)\n",
        "hello_world = \"Hello World\" # str (string)\n",
        "character = 'a' # char (character)\n",
        "wahr = True # bool (boolean)\n",
        "liste = [1, 2, 3] # list\n",
        "tupel = (1, 2, 3) # tuple\n",
        "menge = {1, 2, 3} # set\n",
        "objekt = {\"a\": 1, \"b\": 2, \"c\": 3} # dict (dictionary)"
      ]
    },
    {
      "cell_type": "markdown",
      "metadata": {
        "id": "MAJzdTeRxlKl"
      },
      "source": [
        "Ausgeben (printing)"
      ]
    },
    {
      "cell_type": "code",
      "execution_count": 4,
      "metadata": {
        "id": "k_BBeJYCxlKn",
        "outputId": "2ae06bfb-2570-445a-d689-c7bb5e0f543f",
        "colab": {
          "base_uri": "https://localhost:8080/"
        }
      },
      "outputs": [
        {
          "output_type": "stream",
          "name": "stdout",
          "text": [
            "Hello World\n"
          ]
        }
      ],
      "source": [
        "print(hello_world)"
      ]
    },
    {
      "cell_type": "code",
      "source": [
        "\"hello world\" # das funktioniert nur hier im \"Notebook\" Das letzte Statement einer Zelle wird ausgegeben"
      ],
      "metadata": {
        "id": "q_A2lwoLx48q",
        "outputId": "f26a82dd-d500-4eec-be9a-137de148e774",
        "colab": {
          "base_uri": "https://localhost:8080/",
          "height": 35
        }
      },
      "execution_count": 6,
      "outputs": [
        {
          "output_type": "execute_result",
          "data": {
            "text/plain": [
              "'hello world'"
            ],
            "application/vnd.google.colaboratory.intrinsic+json": {
              "type": "string"
            }
          },
          "metadata": {},
          "execution_count": 6
        }
      ]
    },
    {
      "cell_type": "markdown",
      "metadata": {
        "id": "MLqgfJLdxlKo"
      },
      "source": [
        "Mathematische Operationen auf Zahlen"
      ]
    },
    {
      "cell_type": "code",
      "execution_count": null,
      "metadata": {
        "id": "dBg_NozqxlKp",
        "outputId": "abce1f8b-af66-4dbd-c3ce-1f5505d1870d"
      },
      "outputs": [
        {
          "name": "stdout",
          "output_type": "stream",
          "text": [
            "36.1415926539\n"
          ]
        }
      ],
      "source": [
        "print(numA + numB)\n",
        "# + Addition\n",
        "# - Subtraktion\n",
        "# * Multiplikation\n",
        "# / Division\n",
        "# // Ganzzahlige Division (3//2 = 1)\n",
        "# ** Potenz (3**2)\n",
        "# % Modulo (Rest bei Ganzzahliger Division) (3%2 = 1)"
      ]
    },
    {
      "cell_type": "markdown",
      "metadata": {
        "id": "fgsL1b_xxlKq"
      },
      "source": [
        "Operationen auf anderen Datentypen (Auswahl)"
      ]
    },
    {
      "cell_type": "code",
      "execution_count": 5,
      "metadata": {
        "id": "0_clzMLsxlKr",
        "outputId": "3c07346c-451b-4528-e209-e14f91785180",
        "colab": {
          "base_uri": "https://localhost:8080/"
        }
      },
      "outputs": [
        {
          "output_type": "stream",
          "name": "stdout",
          "text": [
            "Hello World!\n"
          ]
        }
      ],
      "source": [
        "print(hello_world + \"!\")"
      ]
    },
    {
      "cell_type": "code",
      "execution_count": null,
      "metadata": {
        "id": "8bUI5YvPxlKr"
      },
      "outputs": [],
      "source": []
    },
    {
      "cell_type": "markdown",
      "metadata": {
        "id": "JkGD994vxlKs"
      },
      "source": [
        "## Loops (Schleifen)\n",
        "sind Teil des sogenannten Control-Flows, also dem Programmfluss"
      ]
    },
    {
      "cell_type": "code",
      "execution_count": null,
      "metadata": {
        "id": "X2d7glCWxlKt",
        "outputId": "4895df82-b684-4382-ac77-20aa1b2e5ccf"
      },
      "outputs": [
        {
          "name": "stdout",
          "output_type": "stream",
          "text": [
            "1\n",
            "2\n",
            "3\n",
            "4\n",
            "5\n",
            "6\n",
            "7\n",
            "8\n",
            "9\n"
          ]
        }
      ],
      "source": [
        "for item in range(1, 10):\n",
        "    print(item)"
      ]
    },
    {
      "cell_type": "code",
      "execution_count": null,
      "metadata": {
        "id": "00K21Y4oxlKu",
        "outputId": "424fad44-062e-425a-e5eb-1a444fcbb163"
      },
      "outputs": [
        {
          "name": "stdout",
          "output_type": "stream",
          "text": [
            "2\n",
            "3\n",
            "4\n"
          ]
        }
      ],
      "source": [
        "for i in f:\n",
        "    print(i + 1)"
      ]
    },
    {
      "cell_type": "code",
      "source": [
        "i=0\n",
        "while i<5:\n",
        "    for j in range(i):\n",
        "        print(j)\n",
        "    i+=1"
      ],
      "metadata": {
        "id": "3OjFMKdzzrvF",
        "outputId": "f1379f28-aee0-459d-80ae-073cbb40a275",
        "colab": {
          "base_uri": "https://localhost:8080/"
        }
      },
      "execution_count": 10,
      "outputs": [
        {
          "output_type": "stream",
          "name": "stdout",
          "text": [
            "0\n",
            "0\n",
            "1\n",
            "0\n",
            "1\n",
            "2\n",
            "0\n",
            "1\n",
            "2\n",
            "3\n"
          ]
        }
      ]
    },
    {
      "cell_type": "code",
      "source": [
        "#while True:\n",
        "#    print(\"infinite loop\")"
      ],
      "metadata": {
        "id": "OmTPTe0CyvYM"
      },
      "execution_count": null,
      "outputs": []
    },
    {
      "cell_type": "markdown",
      "source": [],
      "metadata": {
        "id": "L5Z3HMzzzZcp"
      }
    },
    {
      "cell_type": "markdown",
      "metadata": {
        "id": "yLr577EixlKu"
      },
      "source": [
        "## Funktionen"
      ]
    },
    {
      "cell_type": "code",
      "execution_count": 11,
      "metadata": {
        "id": "S72LSJfyxlKu",
        "outputId": "7ba2cb6f-ef59-420d-d9cc-e373c2d5bd9d",
        "colab": {
          "base_uri": "https://localhost:8080/",
          "height": 179
        }
      },
      "outputs": [
        {
          "output_type": "error",
          "ename": "NameError",
          "evalue": "ignored",
          "traceback": [
            "\u001b[0;31m---------------------------------------------------------------------------\u001b[0m",
            "\u001b[0;31mNameError\u001b[0m                                 Traceback (most recent call last)",
            "\u001b[0;32m<ipython-input-11-1dd5973cae19>\u001b[0m in \u001b[0;36m<cell line: 1>\u001b[0;34m()\u001b[0m\n\u001b[0;32m----> 1\u001b[0;31m \u001b[0mprint\u001b[0m\u001b[0;34m(\u001b[0m\u001b[0mc\u001b[0m\u001b[0;34m)\u001b[0m\u001b[0;34m\u001b[0m\u001b[0;34m\u001b[0m\u001b[0m\n\u001b[0m",
            "\u001b[0;31mNameError\u001b[0m: name 'c' is not defined"
          ]
        }
      ],
      "source": [
        "print(c)"
      ]
    },
    {
      "cell_type": "code",
      "execution_count": 12,
      "metadata": {
        "id": "yvev_pTSxlKv",
        "outputId": "e519cb4b-108c-4568-a2e4-9aa10c96f950",
        "colab": {
          "base_uri": "https://localhost:8080/",
          "height": 179
        }
      },
      "outputs": [
        {
          "output_type": "error",
          "ename": "NameError",
          "evalue": "ignored",
          "traceback": [
            "\u001b[0;31m---------------------------------------------------------------------------\u001b[0m",
            "\u001b[0;31mNameError\u001b[0m                                 Traceback (most recent call last)",
            "\u001b[0;32m<ipython-input-12-9e7620aac4f3>\u001b[0m in \u001b[0;36m<cell line: 1>\u001b[0;34m()\u001b[0m\n\u001b[0;32m----> 1\u001b[0;31m \u001b[0mprint\u001b[0m\u001b[0;34m(\u001b[0m\u001b[0mf\u001b[0m\u001b[0;34m,\u001b[0m\u001b[0mg\u001b[0m\u001b[0;34m,\u001b[0m\u001b[0mh\u001b[0m\u001b[0;34m)\u001b[0m\u001b[0;34m\u001b[0m\u001b[0;34m\u001b[0m\u001b[0m\n\u001b[0m",
            "\u001b[0;31mNameError\u001b[0m: name 'f' is not defined"
          ]
        }
      ],
      "source": [
        "print(f,g,h)"
      ]
    },
    {
      "cell_type": "code",
      "source": [
        "def happy_bday(name,age=22):\n",
        "    return f\"Happy Birthday {name}! You are {age:.1f} years old.\"\n",
        "print(happy_bday(\"Murphy\"))\n",
        "happy_bday(\"Murphy\",age=22.78346)"
      ],
      "metadata": {
        "id": "Za38O0F-0Xok",
        "outputId": "0774de85-0b70-4cf1-a255-a358ced42e66",
        "colab": {
          "base_uri": "https://localhost:8080/",
          "height": 53
        }
      },
      "execution_count": 28,
      "outputs": [
        {
          "output_type": "stream",
          "name": "stdout",
          "text": [
            "Happy Birthday Murphy! You are 22.0 years old.\n"
          ]
        },
        {
          "output_type": "execute_result",
          "data": {
            "text/plain": [
              "'Happy Birthday Murphy! You are 22.8 years old.'"
            ],
            "application/vnd.google.colaboratory.intrinsic+json": {
              "type": "string"
            }
          },
          "metadata": {},
          "execution_count": 28
        }
      ]
    },
    {
      "cell_type": "markdown",
      "source": [
        "## Objektorientierung / Klassen\n",
        "Klassen und Objekte dienen dazu die reale Welt zu erfassen und im Programm abzubilden. So z.B. ein Fahrrad. Seine Eigenschaften wie die Rahmenhoehe oder die Farbe werden als \"Attribute\" gespeichert."
      ],
      "metadata": {
        "id": "vO2XGKvU113k"
      }
    },
    {
      "cell_type": "code",
      "source": [
        "class Bike:\n",
        "    # diese Funktion ist der Constructor\n",
        "    def __init__(self,size:int,color):\n",
        "        self.size=size # frame size in cm\n",
        "        self.color=color\n",
        "\n",
        "    def lackieren(self,new_color):\n",
        "        self.color=new_color\n",
        "\n",
        "    def __str__(self):\n",
        "        return f'{self.color} bike with frame size {self.size}cm.'\n",
        "\n",
        "    def __repr__(self):\n",
        "        return f'Bike({self.size}, \\\"{self.color}\\\")'\n",
        "\n",
        "mybike=Bike(57,\"silver\")  # erstelle eine Instance der Klasse Bike mit dem Constructor\n",
        "print(mybike.__repr__())\n",
        "print(mybike)\n"
      ],
      "metadata": {
        "id": "gqq7mue_2zCN",
        "outputId": "0a0f0ec5-8855-4cda-f6f3-06b518caf4d1",
        "colab": {
          "base_uri": "https://localhost:8080/"
        }
      },
      "execution_count": 52,
      "outputs": [
        {
          "output_type": "stream",
          "name": "stdout",
          "text": [
            "Bike(57, \"silver\")\n",
            "silver bike with frame size 57cm.\n"
          ]
        }
      ]
    },
    {
      "cell_type": "code",
      "source": [
        "print(mybike.color)\n",
        "mybike.lackieren(\"yellow\")\n",
        "mybike.color"
      ],
      "metadata": {
        "id": "xCtfFmoeRXG4",
        "outputId": "a04f1689-578a-4ab0-ee63-0a379d105162",
        "colab": {
          "base_uri": "https://localhost:8080/",
          "height": 53
        }
      },
      "execution_count": 50,
      "outputs": [
        {
          "output_type": "stream",
          "name": "stdout",
          "text": [
            "silver\n"
          ]
        },
        {
          "output_type": "execute_result",
          "data": {
            "text/plain": [
              "'yellow'"
            ],
            "application/vnd.google.colaboratory.intrinsic+json": {
              "type": "string"
            }
          },
          "metadata": {},
          "execution_count": 50
        }
      ]
    },
    {
      "cell_type": "code",
      "source": [
        "# Wie Integer oder Strings lassen sich auch Objekte der Klasse \"Bike\" in eine Liste stecken.\n",
        "fahrradschuppen = [Bike(30,\"orange\"),mybike,Bike(50,\"black\")]\n",
        "for bike in fahrradschuppen:\n",
        "    print(bike)"
      ],
      "metadata": {
        "id": "WuRN9TrxDUTU",
        "outputId": "ddffcd1f-00cd-4a95-fc1b-65048f49ef25",
        "colab": {
          "base_uri": "https://localhost:8080/"
        }
      },
      "execution_count": 62,
      "outputs": [
        {
          "output_type": "stream",
          "name": "stdout",
          "text": [
            "orange bike with frame size 30cm.\n",
            "silver bike with frame size 57cm.\n",
            "black bike with frame size 50cm.\n"
          ]
        }
      ]
    },
    {
      "cell_type": "markdown",
      "source": [
        "## Libraries = Packages = Modules\n",
        "Was macht ihr, wenn ihr mal nicht weiterwisst oder eine Formel nachschlagen wollt? Ihr geht in die Bibliothek, bzw. ins Internt und schaut nach.\n",
        "So muss das Rad nicht jedes Mal neu erfunden werden.\n",
        "Genau das geht in Python auch mit dem Import von packages."
      ],
      "metadata": {
        "id": "OxgfqshGADh6"
      }
    },
    {
      "cell_type": "code",
      "source": [
        "plot([1,2,3])"
      ],
      "metadata": {
        "id": "7uTu2QIxCRZM",
        "outputId": "34268183-b56b-4a23-deea-ba6e1543313d",
        "colab": {
          "base_uri": "https://localhost:8080/",
          "height": 179
        }
      },
      "execution_count": 33,
      "outputs": [
        {
          "output_type": "error",
          "ename": "NameError",
          "evalue": "ignored",
          "traceback": [
            "\u001b[0;31m---------------------------------------------------------------------------\u001b[0m",
            "\u001b[0;31mNameError\u001b[0m                                 Traceback (most recent call last)",
            "\u001b[0;32m<ipython-input-33-4b05dc3748d9>\u001b[0m in \u001b[0;36m<cell line: 1>\u001b[0;34m()\u001b[0m\n\u001b[0;32m----> 1\u001b[0;31m \u001b[0mplot\u001b[0m\u001b[0;34m(\u001b[0m\u001b[0;34m[\u001b[0m\u001b[0;36m1\u001b[0m\u001b[0;34m,\u001b[0m\u001b[0;36m2\u001b[0m\u001b[0;34m,\u001b[0m\u001b[0;36m3\u001b[0m\u001b[0;34m]\u001b[0m\u001b[0;34m)\u001b[0m\u001b[0;34m\u001b[0m\u001b[0;34m\u001b[0m\u001b[0m\n\u001b[0m",
            "\u001b[0;31mNameError\u001b[0m: name 'plot' is not defined"
          ]
        }
      ]
    },
    {
      "cell_type": "code",
      "source": [
        "# Beispiele aus der Python Standard Library\n",
        "import numpy as np # effiziente Numerik auf Arrays\n",
        "import pandas as pd # fuer Tabellen und Datenauswertung\n",
        "from matplotlib import pyplot as plt # erstellen von Plots und Grafiken\n",
        "import os # Interface mit dem Betriebssystem (Operating System)\n",
        "import math # Mathe halt"
      ],
      "metadata": {
        "id": "Gm58KE2yACH7"
      },
      "execution_count": 56,
      "outputs": []
    },
    {
      "cell_type": "code",
      "source": [
        "aplt.plot([1,2,3],\"x\")"
      ],
      "metadata": {
        "id": "ra_bbRLFCWyb",
        "outputId": "b7730232-2e88-48a5-9615-2a0ca9f7c4b6",
        "colab": {
          "base_uri": "https://localhost:8080/",
          "height": 448
        }
      },
      "execution_count": 35,
      "outputs": [
        {
          "output_type": "execute_result",
          "data": {
            "text/plain": [
              "[<matplotlib.lines.Line2D at 0x79a7f279d780>]"
            ]
          },
          "metadata": {},
          "execution_count": 35
        },
        {
          "output_type": "display_data",
          "data": {
            "text/plain": [
              "<Figure size 640x480 with 1 Axes>"
            ],
            "image/png": "[encoded data removed]"
          },
          "metadata": {}
        }
      ]
    },
    {
      "cell_type": "code",
      "source": [
        "import uncertainties\n"
      ],
      "metadata": {
        "id": "8cC63bncR_9k",
        "outputId": "25ed3039-0179-436c-ee5f-052d0e220bbb",
        "colab": {
          "base_uri": "https://localhost:8080/",
          "height": 322
        }
      },
      "execution_count": 57,
      "outputs": [
        {
          "output_type": "error",
          "ename": "ModuleNotFoundError",
          "evalue": "ignored",
          "traceback": [
            "\u001b[0;31m---------------------------------------------------------------------------\u001b[0m",
            "\u001b[0;31mModuleNotFoundError\u001b[0m                       Traceback (most recent call last)",
            "\u001b[0;32m<ipython-input-57-6df3e4b517ba>\u001b[0m in \u001b[0;36m<cell line: 1>\u001b[0;34m()\u001b[0m\n\u001b[0;32m----> 1\u001b[0;31m \u001b[0;32mimport\u001b[0m \u001b[0muncertainties\u001b[0m\u001b[0;34m\u001b[0m\u001b[0;34m\u001b[0m\u001b[0m\n\u001b[0m",
            "\u001b[0;31mModuleNotFoundError\u001b[0m: No module named 'uncertainties'",
            "",
            "\u001b[0;31m---------------------------------------------------------------------------\u001b[0;32m\nNOTE: If your import is failing due to a missing package, you can\nmanually install dependencies using either !pip or !apt.\n\nTo view examples of installing some common dependencies, click the\n\"Open Examples\" button below.\n\u001b[0;31m---------------------------------------------------------------------------\u001b[0m\n"
          ],
          "errorDetails": {
            "actions": [
              {
                "action": "open_url",
                "actionText": "Open Examples",
                "url": "/notebooks/snippets/importing_libraries.ipynb"
              }
            ]
          }
        }
      ]
    },
    {
      "cell_type": "markdown",
      "source": [],
      "metadata": {
        "id": "0MxdkMZmUDmZ"
      }
    },
    {
      "cell_type": "markdown",
      "source": [
        "## Ausnahmen fuer Kaefer: Bugs, Errors und Exceptions\n",
        "Da Computer deterministische Automaten sind, gibt es beim Programmieren feste Regeln. Werden sie verletzt, spuckt der Computer eine Fehlermeldung aus.\n",
        "Syntaxfehler fliegen direkt beim Compilieren auf. Runtimefehler erst mit Ausfuehrung des Programmes.\n",
        "Habt ihr einen Logic Error gemacht, dann merkt der Computer nichts davon, euer Programm funktioniert jedoch nicht wie gewuenscht."
      ],
      "metadata": {
        "id": "xwJWi3Dtc5Gn"
      }
    },
    {
      "cell_type": "markdown",
      "source": [
        "### Syntaxfehler"
      ],
      "metadata": {
        "id": "R5k1v31iiUfd"
      }
    },
    {
      "cell_type": "code",
      "source": [
        "# was fehlt hier?\n",
        "# wir verstehen, was gemeint ist, warum tut python das nicht?\n",
        "print \"hello world\""
      ],
      "metadata": {
        "id": "YMWK1ZwyiZkT",
        "outputId": "84a98ade-cbb6-4166-fefd-e583b9a43624",
        "colab": {
          "base_uri": "https://localhost:8080/",
          "height": 143
        }
      },
      "execution_count": 63,
      "outputs": [
        {
          "output_type": "error",
          "ename": "SyntaxError",
          "evalue": "ignored",
          "traceback": [
            "\u001b[0;36m  File \u001b[0;32m\"<ipython-input-63-6d29d8fb337c>\"\u001b[0;36m, line \u001b[0;32m1\u001b[0m\n\u001b[0;31m    print \"hello world\"\u001b[0m\n\u001b[0m    ^\u001b[0m\n\u001b[0;31mSyntaxError\u001b[0m\u001b[0;31m:\u001b[0m Missing parentheses in call to 'print'. Did you mean print(...)?\n"
          ]
        }
      ]
    },
    {
      "cell_type": "code",
      "source": [
        "# Assembly code Bsp\n",
        "def myfun(alist):\n",
        "    return len(alist)\n",
        "\n",
        "import dis\n",
        "dis.dis(myfun) # disassemble function"
      ],
      "metadata": {
        "id": "jx3VYMipTy2H",
        "outputId": "f246d8ac-c553-4e4e-8a63-69a47b579892",
        "colab": {
          "base_uri": "https://localhost:8080/"
        }
      },
      "execution_count": 61,
      "outputs": [
        {
          "output_type": "stream",
          "name": "stdout",
          "text": [
            "  2           0 LOAD_GLOBAL              0 (len)\n",
            "              2 LOAD_FAST                0 (alist)\n",
            "              4 CALL_FUNCTION            1\n",
            "              6 RETURN_VALUE\n"
          ]
        }
      ]
    },
    {
      "cell_type": "markdown",
      "source": [
        "### Runtimefehler"
      ],
      "metadata": {
        "id": "IokL-Jh_k2KG"
      }
    },
    {
      "cell_type": "code",
      "source": [
        "def plus(a,b):\n",
        "    return a+b\n",
        "a=1\n",
        "b=-2\n",
        "plus(a,c)"
      ],
      "metadata": {
        "id": "HRcLpkX3k7xn",
        "outputId": "6fe0bab5-75e1-4bf6-8b48-c432ba9a23de",
        "colab": {
          "base_uri": "https://localhost:8080/",
          "height": 215
        }
      },
      "execution_count": 72,
      "outputs": [
        {
          "output_type": "error",
          "ename": "NameError",
          "evalue": "ignored",
          "traceback": [
            "\u001b[0;31m---------------------------------------------------------------------------\u001b[0m",
            "\u001b[0;31mNameError\u001b[0m                                 Traceback (most recent call last)",
            "\u001b[0;32m<ipython-input-72-e2ad9b0bfd43>\u001b[0m in \u001b[0;36m<cell line: 5>\u001b[0;34m()\u001b[0m\n\u001b[1;32m      3\u001b[0m \u001b[0ma\u001b[0m\u001b[0;34m=\u001b[0m\u001b[0;36m1\u001b[0m\u001b[0;34m\u001b[0m\u001b[0;34m\u001b[0m\u001b[0m\n\u001b[1;32m      4\u001b[0m \u001b[0mb\u001b[0m\u001b[0;34m=\u001b[0m\u001b[0;34m-\u001b[0m\u001b[0;36m2\u001b[0m\u001b[0;34m\u001b[0m\u001b[0;34m\u001b[0m\u001b[0m\n\u001b[0;32m----> 5\u001b[0;31m \u001b[0mplus\u001b[0m\u001b[0;34m(\u001b[0m\u001b[0ma\u001b[0m\u001b[0;34m,\u001b[0m\u001b[0mc\u001b[0m\u001b[0;34m)\u001b[0m\u001b[0;34m\u001b[0m\u001b[0;34m\u001b[0m\u001b[0m\n\u001b[0m",
            "\u001b[0;31mNameError\u001b[0m: name 'c' is not defined"
          ]
        }
      ]
    },
    {
      "cell_type": "code",
      "source": [
        "math.sqrt(b)"
      ],
      "metadata": {
        "id": "AeR4wOybni4D",
        "outputId": "67d20038-82b6-4b7a-dbbc-c327f4f873ac",
        "colab": {
          "base_uri": "https://localhost:8080/",
          "height": 179
        }
      },
      "execution_count": 73,
      "outputs": [
        {
          "output_type": "error",
          "ename": "ValueError",
          "evalue": "ignored",
          "traceback": [
            "\u001b[0;31m---------------------------------------------------------------------------\u001b[0m",
            "\u001b[0;31mValueError\u001b[0m                                Traceback (most recent call last)",
            "\u001b[0;32m<ipython-input-73-9ecbca8850b6>\u001b[0m in \u001b[0;36m<cell line: 1>\u001b[0;34m()\u001b[0m\n\u001b[0;32m----> 1\u001b[0;31m \u001b[0mmath\u001b[0m\u001b[0;34m.\u001b[0m\u001b[0msqrt\u001b[0m\u001b[0;34m(\u001b[0m\u001b[0mb\u001b[0m\u001b[0;34m)\u001b[0m\u001b[0;34m\u001b[0m\u001b[0;34m\u001b[0m\u001b[0m\n\u001b[0m",
            "\u001b[0;31mValueError\u001b[0m: math domain error"
          ]
        }
      ]
    },
    {
      "cell_type": "code",
      "source": [
        "array=np.arange(0,5,0.5)\n",
        "array[10]"
      ],
      "metadata": {
        "id": "l3z63U-AmTBG",
        "outputId": "feff9e8c-34e1-4f7e-ee19-698b23f44686",
        "colab": {
          "base_uri": "https://localhost:8080/",
          "height": 197
        }
      },
      "execution_count": 70,
      "outputs": [
        {
          "output_type": "error",
          "ename": "IndexError",
          "evalue": "ignored",
          "traceback": [
            "\u001b[0;31m---------------------------------------------------------------------------\u001b[0m",
            "\u001b[0;31mIndexError\u001b[0m                                Traceback (most recent call last)",
            "\u001b[0;32m<ipython-input-70-6dc219606e8c>\u001b[0m in \u001b[0;36m<cell line: 2>\u001b[0;34m()\u001b[0m\n\u001b[1;32m      1\u001b[0m \u001b[0marray\u001b[0m\u001b[0;34m=\u001b[0m\u001b[0mnp\u001b[0m\u001b[0;34m.\u001b[0m\u001b[0marange\u001b[0m\u001b[0;34m(\u001b[0m\u001b[0;36m0\u001b[0m\u001b[0;34m,\u001b[0m\u001b[0;36m5\u001b[0m\u001b[0;34m,\u001b[0m\u001b[0;36m0.5\u001b[0m\u001b[0;34m)\u001b[0m\u001b[0;34m\u001b[0m\u001b[0;34m\u001b[0m\u001b[0m\n\u001b[0;32m----> 2\u001b[0;31m \u001b[0marray\u001b[0m\u001b[0;34m[\u001b[0m\u001b[0;36m10\u001b[0m\u001b[0;34m]\u001b[0m\u001b[0;34m\u001b[0m\u001b[0;34m\u001b[0m\u001b[0m\n\u001b[0m",
            "\u001b[0;31mIndexError\u001b[0m: index 10 is out of bounds for axis 0 with size 10"
          ]
        }
      ]
    },
    {
      "cell_type": "markdown",
      "source": [
        "### Logic Error"
      ],
      "metadata": {
        "id": "cZA0A95Jm3-9"
      }
    },
    {
      "cell_type": "code",
      "source": [
        "# keine Fehlermeldung, aber was geht hier schief?\n",
        "def mittelwert(werte):\n",
        "    avg=0\n",
        "    N=len(werte)\n",
        "    for w in werte:\n",
        "        avg=avg+w/N\n",
        "        return avg\n",
        "\n",
        "mittelwert([1,2,3])"
      ],
      "metadata": {
        "id": "HBRyt_QLm3bM",
        "outputId": "a9313b4a-9508-435c-ec15-8e7915858609",
        "colab": {
          "base_uri": "https://localhost:8080/"
        }
      },
      "execution_count": 76,
      "outputs": [
        {
          "output_type": "execute_result",
          "data": {
            "text/plain": [
              "0.3333333333333333"
            ]
          },
          "metadata": {},
          "execution_count": 76
        }
      ]
    },
    {
      "cell_type": "markdown",
      "source": [
        "## Documentation / Code Conventions\n",
        "Stellt euch vor, ihr muesstet ein Fertigregal ganz ohne Bedienungsanleitung aufbauen. Das ist in etwa aequivalent mit dem Versuch euren nicht dokumentierten Spaghetticode von vor zwei Wochen zu verstehen.\n",
        "Sauberer, gut dokumentierter Code ist eine Tugend. Fangt daher am besten gleich damit an!\n"
      ],
      "metadata": {
        "id": "cbNE5MoGiiX0"
      }
    },
    {
      "cell_type": "markdown",
      "metadata": {
        "id": "NC8aldaQxlKw"
      },
      "source": []
    }
  ],
  "metadata": {
    "kernelspec": {
      "display_name": "Python 3",
      "language": "python",
      "name": "python3"
    },
    "language_info": {
      "codemirror_mode": {
        "name": "ipython",
        "version": 3
      },
      "file_extension": ".py",
      "mimetype": "text/x-python",
      "name": "python",
      "nbconvert_exporter": "python",
      "pygments_lexer": "ipython3",
      "version": "3.11.3"
    },
    "orig_nbformat": 4,
    "colab": {
      "provenance": []
    }
  },
  "nbformat": 4,
  "nbformat_minor": 0
}